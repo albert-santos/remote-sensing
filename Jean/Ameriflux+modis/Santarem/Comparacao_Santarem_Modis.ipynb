{
 "cells": [
  {
   "cell_type": "code",
   "execution_count": null,
   "id": "b6997c63-7b72-4204-8d5a-895bea20dd43",
   "metadata": {},
   "outputs": [],
   "source": [
    "import pandas as pd\n",
    "import numpy as np\n",
    "import seaborn as sns\n",
    "import matplotlib.pyplot as plt\n",
    "from sklearn.linear_model import LinearRegression"
   ]
  },
  {
   "cell_type": "code",
   "execution_count": 183,
   "id": "9dc894a3-6eb8-43a8-989f-2372d661d42f",
   "metadata": {},
   "outputs": [],
   "source": [
    "# FUNÇÃO CRIADA PARA CRIAÇÃO DOS GRÁFICOS\n",
    "\n",
    "def reg_graph (x, y, data,sct_size=None,s=10,title='', legend_visibility=True, legend_title='', xlabel='', ylabel='', fit_intercept=True, ativar_grafico_yx=False,reg_from_start=False, offset_txt_x=0.15,offset_txt_y=2.25):\n",
    "    # x = eixo x do gráfico\n",
    "    # y = eixo y do gráfico\n",
    "    # data = dataframe origem dos dados que representam x e y\n",
    "    # sct_size = tamanho do scatter no gráfico BASEADO em uma coluna do dataframe\n",
    "    # s = tamanho do scatter no gráfico BASEADO em um NUMERO\n",
    "    # title = título do gráfico\n",
    "    # legend_visibility = visibilidade da legenda\n",
    "    # legend_title = título da legenda\n",
    "    # xlabel = título do eixo x\n",
    "    # ylabel = titulo do eixo y\n",
    "    # offset_txt_x = deslocamento do texto da função no eixo x\n",
    "    # offset_txt_y = deslocamento do texto da função no eixo y\n",
    "\n",
    "    sns.set_style('darkgrid')\n",
    "\n",
    "    f, ax = plt.subplots(1,figsize=(8, 5))\n",
    "\n",
    "    sns.scatterplot(x=data[x], y=data[y], data=data,size=sct_size,s=s)\n",
    "\n",
    "    rng = np.random.default_rng(1234) #seed para valores aleatórios\n",
    "    lr = LinearRegression(fit_intercept=fit_intercept)\n",
    "    fitted_reg = lr.fit(data[[x]],data[[y]])\n",
    "\n",
    "    if not fit_intercept:\n",
    "        fitted_reg.intercept_ = [fitted_reg.intercept_] # Prevenindo erros\n",
    "\n",
    "    r2_score = fitted_reg.score(data[[x]],data[[y]]) # R² Score\n",
    "    x_reg_line = rng.uniform(data[x].min(), data[x].max(), size=100) # gerando valores entre os valores do scatterplot para criar a reta\n",
    "    y_reg_line = x_reg_line * fitted_reg.coef_ + fitted_reg.intercept_[0] # função y=ax + b para representar a reta criada\n",
    "\n",
    "    if reg_from_start:\n",
    "\n",
    "        if (data[x].min() < 0) and (abs(data[x].min()) > data[y].max()): # Para valores data[x] negativos\n",
    "\n",
    "            x_reg_line = rng.uniform(data[x].min() * 2 , 0, size=1000) # gerando valores entre os valores do scatterplot para criar a reta, partindo do 0\n",
    "\n",
    "        elif (data[y].min() < 0) and (abs(data[y].min()) > data[x].max()): # Para valores data[y] negativos\n",
    "\n",
    "            x_reg_line = rng.uniform(data[y].min() * 2 , 0, size=1000) # gerando valores entre os valores do scatterplot para criar a reta, partindo do 0\n",
    "\n",
    "        elif (data[x].max() > data[y].max()):\n",
    "\n",
    "            x_reg_line = rng.uniform(0, data[x].max() * 2, size=1000)\n",
    "\n",
    "        else:\n",
    "\n",
    "            x_reg_line = rng.uniform(0, data[y].max() * 2, size=1000)\n",
    "\n",
    "        y_reg_line = x_reg_line * fitted_reg.coef_ + fitted_reg.intercept_[0] # função y=ax + b para representar a reta criada\n",
    "\n",
    "\n",
    "    text_coord_x = data[x].max() - data[x].max() * offset_txt_x  #eixo x do texto\n",
    "\n",
    "\n",
    "    plt.text(text_coord_x, offset_txt_y, f'Y={round(fitted_reg.coef_[0][0],4)}x + {round(fitted_reg.intercept_[0],4)}',fontsize=12, ha='center', va='center',color='blue') #Texto da reta Azul\n",
    "    plt.text(text_coord_x, offset_txt_y - (offset_txt_y*0.3), f'R²:{round(r2_score,4)}', fontsize=12, ha='center', va='center',color='blue') # Texto r²\n",
    "\n",
    "\n",
    "    ax.set_ylim((0, (data[y].max() + (data[y].max()/2)))) # tamanho limite do plot no eixo y\n",
    "    ax.set_xlim((0, data[x].max() + data[x].max()/2)) # tamanho limite do plot no eixo x\n",
    "    ax.plot(x_reg_line,y_reg_line[0]) #reta de regressão\n",
    "\n",
    "    if ativar_grafico_yx:\n",
    "        y_x = rng.uniform(0, 1000, size=1000) # gerando 100 valores aleatórios\n",
    "        ax.plot(y_x,y_x, 'k--') # reta y=x\n",
    "\n",
    "    if legend_title:\n",
    "        plt.legend(title=legend_title,loc='upper left').set_visible(legend_visibility) #legenda no canto superior esquerdo\n",
    "\n",
    "    plt.title(title) # Título do gráfico\n",
    "    plt.xlabel(xlabel) #Título do eixo X\n",
    "    plt.ylabel(ylabel) #Título do eixo y\n",
    "    plt.tight_layout() #Redimensionar melhor o gráfico\n",
    "    plt.show() #Mostrar o gráfico"
   ]
  },
  {
   "cell_type": "code",
   "execution_count": 199,
   "id": "f8794482-ed90-4cc7-81d6-99a46954dfe7",
   "metadata": {},
   "outputs": [
    {
     "data": {
      "text/html": [
       "<div>\n",
       "<style scoped>\n",
       "    .dataframe tbody tr th:only-of-type {\n",
       "        vertical-align: middle;\n",
       "    }\n",
       "\n",
       "    .dataframe tbody tr th {\n",
       "        vertical-align: top;\n",
       "    }\n",
       "\n",
       "    .dataframe thead th {\n",
       "        text-align: right;\n",
       "    }\n",
       "</style>\n",
       "<table border=\"1\" class=\"dataframe\">\n",
       "  <thead>\n",
       "    <tr style=\"text-align: right;\">\n",
       "      <th></th>\n",
       "      <th>NPP</th>\n",
       "    </tr>\n",
       "  </thead>\n",
       "  <tbody>\n",
       "    <tr>\n",
       "      <th>0</th>\n",
       "      <td>1391.026145</td>\n",
       "    </tr>\n",
       "    <tr>\n",
       "      <th>1</th>\n",
       "      <td>1578.385090</td>\n",
       "    </tr>\n",
       "    <tr>\n",
       "      <th>2</th>\n",
       "      <td>1553.698680</td>\n",
       "    </tr>\n",
       "  </tbody>\n",
       "</table>\n",
       "</div>"
      ],
      "text/plain": [
       "           NPP\n",
       "0  1391.026145\n",
       "1  1578.385090\n",
       "2  1553.698680"
      ]
     },
     "execution_count": 199,
     "metadata": {},
     "output_type": "execute_result"
    }
   ],
   "source": [
    "ameriflux = pd.read_csv('./DadosNPPTorre/ameriflux-santarem-dados.csv') # Dados da AMERIFLUX\n",
    "modis = pd.read_csv('./DadosNPPSatelite/Npp_500m.csv',header=None)\n",
    "ameriflux = ameriflux.drop(['Time','Date'],axis=1)\n",
    "\n",
    "ameriflux.fillna(np.nan)\n",
    "\n",
    "# Função para remover todos os pontos, exceto o último, e converter para número\n",
    "def remove_pontos_e_converter(valor):\n",
    "    partes = valor.split('.')\n",
    "    if len(partes) > 1:\n",
    "        partes[:-1] = [''.join(partes[:-1])]\n",
    "    valor_sem_pontos = '.'.join(partes)\n",
    "    return float(valor_sem_pontos)\n",
    "#ex: 100.000.000 -> 100000.000\n",
    "\n",
    "\n",
    "# Aplique a função à coluna 'Valor'\n",
    "ameriflux['NPP'] = ameriflux['NPP'].apply(remove_pontos_e_converter)\n",
    "ameriflux['NPP'] = ameriflux['NPP'].apply(lambda x: x /(10**6)) # umolCO2 m-2 y-1 / 10 ** 6 = molCO2 m-2 y-1\n",
    "ameriflux['NPP'] *= (12/44)  # molCO2 m-2 y-1  * gC/mol = gC m-2 y-1  # Relação massaC/massaCO2 pega do chatgpt, para pegar a massa excluisamente do C na equação\n",
    "ameriflux['NPP'] /= (10**3)  # gC m-2 y-1 / 10**3 = kgC m-2 y-1\n",
    "\n",
    "ameriflux_npp = ameriflux.groupby(by='Year')['NPP'].mean() \n",
    "\n",
    "ameriflux_npp = ameriflux_npp.reset_index().drop('Year',axis=1)\n",
    "\n",
    "ameriflux_npp *= -1 # Multipliquei por -1 para lidar apenas com valores positivos\n",
    "\n",
    "ameriflux_npp"
   ]
  },
  {
   "cell_type": "code",
   "execution_count": 185,
   "id": "be942446-7257-4bec-ba41-b3b3e831156d",
   "metadata": {},
   "outputs": [],
   "source": [
    "# profile = ProfileReport(ameriflux, tsmode=True,sortby=\"Year\",title='Profile Report Ameriflux')\n",
    "# profile.to_file(\"your_report.html\")"
   ]
  },
  {
   "cell_type": "code",
   "execution_count": 200,
   "id": "7cb70023-e93d-44c4-bf15-5b2c0e79ba79",
   "metadata": {
    "tags": []
   },
   "outputs": [
    {
     "data": {
      "text/plain": [
       "0\n",
       "A2009001    1204.458131\n",
       "A2010001    1183.960900\n",
       "A2011001    1227.250865\n",
       "dtype: float64"
      ]
     },
     "execution_count": 200,
     "metadata": {},
     "output_type": "execute_result"
    }
   ],
   "source": [
    "modis_data = modis.loc[modis[2].isin(['A2009001','A2010001','A2011001'])].copy() # Dados de NPP nos anos de 2009, 2010 e 2011\n",
    "\n",
    "\n",
    "modis_data = modis_data.drop([0,1,3,4],axis=1).reset_index().drop('index',axis=1) # Retirando colunas com informações não relevantes e restabelecendo o dataframe a partir de um index 0 nas 2 linhas\n",
    "\n",
    "\n",
    "modis_data.columns = range(len(modis_data.columns.to_list())) # Reiniciando o index a partir do 0 para as colunas \n",
    "\n",
    "\n",
    "modis_data.set_index(0,inplace=True) # Colocando o \"Acquisition Date [ A (YYYYDDD) ]\"  como index para legibilidade do dataframe\n",
    "\n",
    "modis_npp_mean = modis_data.mean(axis=1) # Média de NPP nesses anos \n",
    "\n",
    "modis_npp_mean = modis_npp_mean.apply(lambda x:x/10)\n",
    "modis_npp_mean"
   ]
  },
  {
   "cell_type": "code",
   "execution_count": 201,
   "id": "43381146-acd6-4d9b-b160-f2aa6dae6c7a",
   "metadata": {},
   "outputs": [
    {
     "data": {
      "text/html": [
       "<div>\n",
       "<style scoped>\n",
       "    .dataframe tbody tr th:only-of-type {\n",
       "        vertical-align: middle;\n",
       "    }\n",
       "\n",
       "    .dataframe tbody tr th {\n",
       "        vertical-align: top;\n",
       "    }\n",
       "\n",
       "    .dataframe thead th {\n",
       "        text-align: right;\n",
       "    }\n",
       "</style>\n",
       "<table border=\"1\" class=\"dataframe\">\n",
       "  <thead>\n",
       "    <tr style=\"text-align: right;\">\n",
       "      <th></th>\n",
       "      <th>ameriflux_NPP</th>\n",
       "      <th>modis_NPP</th>\n",
       "    </tr>\n",
       "  </thead>\n",
       "  <tbody>\n",
       "    <tr>\n",
       "      <th>0</th>\n",
       "      <td>1391.026145</td>\n",
       "      <td>1204.458131</td>\n",
       "    </tr>\n",
       "    <tr>\n",
       "      <th>1</th>\n",
       "      <td>1578.385090</td>\n",
       "      <td>1183.960900</td>\n",
       "    </tr>\n",
       "    <tr>\n",
       "      <th>2</th>\n",
       "      <td>1553.698680</td>\n",
       "      <td>1227.250865</td>\n",
       "    </tr>\n",
       "  </tbody>\n",
       "</table>\n",
       "</div>"
      ],
      "text/plain": [
       "   ameriflux_NPP    modis_NPP\n",
       "0    1391.026145  1204.458131\n",
       "1    1578.385090  1183.960900\n",
       "2    1553.698680  1227.250865"
      ]
     },
     "execution_count": 201,
     "metadata": {},
     "output_type": "execute_result"
    }
   ],
   "source": [
    "npp_dataframe = {\n",
    "    'ameriflux_NPP':ameriflux_npp.values.reshape(1,-1)[0],\n",
    "    'modis_NPP':modis_npp_mean.values\n",
    "}\n",
    "npp_dataframe = pd.DataFrame(npp_dataframe)\n",
    "npp_dataframe\n",
    "# os valores de npp do modis não estão \"escalados\", \n",
    "# apesar do cálculo de npp da torre estar correto, ele difere dos de satélite quando este está escalado e no mesmo formato do mapa"
   ]
  },
  {
   "cell_type": "code",
   "execution_count": 203,
   "id": "8b30c53e-0838-448e-90dd-a95451d12db6",
   "metadata": {},
   "outputs": [
    {
     "data": {
      "image/png": "[encoded data removed]",
      "text/plain": [
       "<Figure size 576x360 with 1 Axes>"
      ]
     },
     "metadata": {},
     "output_type": "display_data"
    },
    {
     "data": {
      "image/png": "[encoded data removed]",
      "text/plain": [
       "<Figure size 576x360 with 1 Axes>"
      ]
     },
     "metadata": {},
     "output_type": "display_data"
    }
   ],
   "source": [
    "#(x, y, data,sct_size=10, title='', legend_visibility=True, legend_title=None, xlabel='', ylabel='', fit_intercept=True, ativar_grafico_yx=False,reg_from_start=False, offset_txt_x=0.15,offset_txt_y=2.25)\n",
    "eixo_x = 'ameriflux_NPP'\n",
    "eixo_y = 'modis_NPP'\n",
    "data = npp_dataframe\n",
    "xlabel = \"NPP AMERIFLUX TOWER (kgC m−2 y−1)\"\n",
    "ylabel = \"NPP SATELITE (kgC m−2 y−1)\"\n",
    "title = \"Correlação entre NPP TORRE x NPP SATELITE\"\n",
    "\n",
    "reg_graph(eixo_x,eixo_y,sct_size=30,data=data,xlabel=xlabel,ylabel=ylabel,title=title,legend_visibility=False,reg_from_start=True,offset_txt_x=0.1,offset_txt_y=700)\n",
    "\n",
    "reg_graph(eixo_x,eixo_y,data=data,xlabel=xlabel,ylabel=ylabel,title=title + ' FIT_INTERCEPT:False',fit_intercept=False,reg_from_start=True,legend_visibility=False,offset_txt_x=0.1,offset_txt_y=700)"
   ]
  }
 ],
 "metadata": {
  "kernelspec": {
   "display_name": "Python 3 (ipykernel)",
   "language": "python",
   "name": "python3"
  },
  "language_info": {
   "codemirror_mode": {
    "name": "ipython",
    "version": 3
   },
   "file_extension": ".py",
   "mimetype": "text/x-python",
   "name": "python",
   "nbconvert_exporter": "python",
   "pygments_lexer": "ipython3",
   "version": "3.9.12"
  }
 },
 "nbformat": 4,
 "nbformat_minor": 5
}
