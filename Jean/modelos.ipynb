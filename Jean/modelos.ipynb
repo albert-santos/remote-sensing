{
 "cells": [
  {
   "cell_type": "code",
   "execution_count": 61,
   "id": "f86fa6eb-7386-4ae9-98f6-aee43e12e012",
   "metadata": {
    "tags": []
   },
   "outputs": [],
   "source": [
    "import matplotlib.image as mpimg\n",
    "import pandas as pd\n",
    "import plotly.graph_objects as go\n",
    "import plotly.express as px\n",
    "import matplotlib.pyplot as plt\n",
    "import numpy as np\n",
    "from s2cloudless import S2PixelCloudDetector, download_bands_and_valid_data_mask\n",
    "from matplotlib.colors import ListedColormap\n",
    "import datetime as dt\n",
    "import plotly.io as pio\n",
    "import copy\n",
    "from datetime import datetime\n",
    "import rasterio\n",
    "from functools import lru_cache\n",
    "from numba import jit\n",
    "from osgeo import gdal\n",
    "import subprocess\n",
    "import os\n",
    "import glob\n",
    "from contextlib import contextmanager\n",
    "import shutil\n",
    "\n",
    "\n",
    "@contextmanager\n",
    "def cwd(path):\n",
    "    oldpwd = os.getcwd()\n",
    "    os.chdir(path)\n",
    "    try:\n",
    "        yield\n",
    "    finally:\n",
    "        os.chdir(oldpwd)\n",
    "\n",
    "def listdir_fullpath(d):\n",
    "    return [os.path.join(d, f) for f in sorted(os.listdir(d))]\n",
    "\n",
    "class preprocessing:\n",
    "    def __init__(self, caminho):\n",
    "        self.caminho = caminho\n",
    "        self.imgs_diretorio = os.listdir(self.caminho)\n",
    "        self.diretorios_tif = sorted([diretorio.replace('.SAFE','.TIF') for diretorio in self.imgs_diretorio if diretorio.endswith('.SAFE')])\n",
    "        self.caminho_completo_lista = [item for item in listdir_fullpath(self.caminho) if item.endswith('.SAFE')]\n",
    "        \n",
    "    def merge_tif_files(self, nome_TIF):\n",
    "        pasta_TIF = nome_TIF\n",
    "        with cwd(pasta_TIF):\n",
    "            if os.path.exists(f'merge.tif'):\n",
    "                os.remove(f'merge.tif')\n",
    "            arquivos_tif = glob.glob('*.tif')\n",
    "            comando = ['gdal_merge.py', '-o', f'merge.tif', '-of', 'Gtiff', '-separate', '-ot', 'FLOAT32'] + arquivos_tif\n",
    "            subprocess.run(comando, stdout=subprocess.PIPE, stderr=subprocess.PIPE)\n",
    "            list(map(os.remove,arquivos_tif))\n",
    "\n",
    "        \n",
    "    def _create_tif_folder(self) -> None:\n",
    "        # Se a string terminar com '.SAFE', remova '.SAFE'; caso contrário, se terminar com '.TIF', remova '.TIF'\n",
    "        diretorios_sem_extensao = [diretorio.replace('.SAFE', '').replace('.TIF', '') for diretorio in self.imgs_diretorio if diretorio.endswith('.SAFE') or diretorio.endswith('.TIF')]\n",
    "        \n",
    "        for nomes_dos_diretorios in diretorios_sem_extensao:\n",
    "            \n",
    "            if os.path.exists(f'{nomes_dos_diretorios}.TIF'):\n",
    "                shutil.rmtree(f'./{nomes_dos_diretorios}.TIF')\n",
    "            os.makedirs(f'{nomes_dos_diretorios}.TIF')\n",
    "                    \n",
    "        self._modify_img_diretorio()\n",
    "        \n",
    "        \n",
    "    def _modify_img_diretorio(self) -> None:\n",
    "        self.imgs_diretorio = [diretorio for diretorio in self.imgs_diretorio if diretorio.endswith('.SAFE')]\n",
    "        \n",
    "        \n",
    "    def jp2_to_tif(self,merge_tif=True):\n",
    "        \n",
    "        with cwd(self.caminho):\n",
    "            self._create_tif_folder()\n",
    "            for diretorio in self.imgs_diretorio:\n",
    "                files = glob.glob(os.path.join(f'{diretorio}','GRANULE', '*', 'IMG_DATA', '*B*.jp2'))\n",
    "                files = sorted(files)\n",
    "                nome_TIF = diretorio.replace('.SAFE','.TIF')\n",
    "                commands = []\n",
    "                for f in files:\n",
    "                    input_path = f\n",
    "                    output_path = nome_TIF + '/' +os.path.splitext(os.path.basename(f))[0] + '.tif'\n",
    "                    \n",
    "                    if os.path.exists(output_path):\n",
    "                        os.remove(output_path)\n",
    "                    cmd = ['gdal_translate', input_path, '-ot', 'Float32', '-of', 'Gtiff', '-outsize', '1830', '1830', output_path]\n",
    "                    commands.append(cmd)\n",
    "                for cmd in commands:\n",
    "                    subprocess.run(cmd, stdout=subprocess.PIPE, stderr=subprocess.PIPE)\n",
    "                if merge_tif:\n",
    "                    self.merge_tif_files(nome_TIF)\n",
    "                \n",
    "    def _criar_symlinks(self,kappa_mask_folder):\n",
    "\n",
    "        # Caminho para a pasta origem\n",
    "        pasta_origem = os.path.abspath(kappa_mask_folder)\n",
    "\n",
    "        for diretorio in self.caminho_completo_lista:\n",
    "            # Caminho para a pasta destino (dinâmica)\n",
    "            caminho_pasta = self.caminho + '/' + diretorio\n",
    "            \n",
    "            pasta_destino = os.path.abspath(caminho_pasta)\n",
    "\n",
    "            # Caminho completo para o symlink dentro da pasta origem\n",
    "            symlink_path = os.path.join(pasta_origem, \"data\", os.path.basename(pasta_destino))\n",
    "\n",
    "            # Criar o symlink\n",
    "            try:\n",
    "                os.symlink(pasta_destino, symlink_path)\n",
    "                print(f\"Symlink criado com sucesso: {symlink_path} -> {pasta_destino}\")\n",
    "            except FileExistsError:\n",
    "                return\n",
    "            except Exception as e:\n",
    "                print(f\"Erro ao criar symlink: {e}\")\n",
    "    \n",
    "    \n",
    "class Modelos(preprocessing):\n",
    "    def __init__(self, caminho):\n",
    "        super().__init__(caminho)\n",
    "        \n",
    "    def start(self):\n",
    "        self.jp2_to_tif()\n",
    "        \n",
    "    def s2cloudless(self, threshold=0.4, average_core=22, dilation_size=11, all_bands=True) -> list:\n",
    "        for diretorio in self.diretorios_tif:\n",
    "            caminho_completo = self.caminho + '/' + diretorio\n",
    "            if os.path.exists(caminho_completo):\n",
    "                with cwd(caminho_completo):\n",
    "                    bandas = gdal.Open(f'./merge.tif').ReadAsArray()\n",
    "                    bandas = np.transpose(bandas, (1, 2, 0))\n",
    "                    cloud_detector = S2PixelCloudDetector(threshold=threshold, average_over=average_core, dilation_size=dilation_size, all_bands=all_bands)\n",
    "                    cloud_prob = cloud_detector.get_cloud_probability_maps(bandas[np.newaxis, ...])\n",
    "                    cloud_mask = cloud_detector.get_cloud_masks(bandas[np.newaxis, ...])\n",
    "                    yield [cloud_prob, cloud_mask]\n",
    "            else:\n",
    "                self.start()\n",
    "    \n",
    "    def fmask(self) -> None:\n",
    "        for pasta in self.caminho_completo_lista:\n",
    "            yield self._processar_resultados_fmask(pasta)\n",
    "\n",
    "    def _processar_resultados_fmask(self, pasta):\n",
    "        pasta += '/GRANULE'\n",
    "        temp = os.listdir(pasta)[0]  # L1C*\n",
    "\n",
    "        with cwd(os.path.join(pasta, temp)):\n",
    "            cmd = [\"/usr/GERS/Fmask_4_6/application/run_Fmask_4_6.sh\", \"/usr/local/MATLAB/MATLAB_Runtime/v910\"]\n",
    "\n",
    "            # Inicia o subprocesso\n",
    "            subprocess.run(cmd)\n",
    "\n",
    "            # Encontra os arquivos de resultados gerados pelo Fmask\n",
    "            resultados_scl = glob.glob('FMASK_DATA/*')[0]\n",
    "            resultados = gdal.Open(resultados_scl).ReadAsArray()\n",
    "            return resultados\n",
    "\n",
    "        \n",
    "    def kappa_mask(self,kappa_mask_folder,json_config_name='config_example.json'):\n",
    "        self._criar_symlinks(kappa_mask_folder)\n",
    "         \n",
    "        for product_name in self.imgs_diretorio:\n",
    "            yield self._processar_resultados_kappaMask(kappa_mask_folder,product_name,json_config_name)\n",
    "        \n",
    "        \n",
    "    def _processar_resultados_kappaMask(self,kappa_mask_folder,product_name,json_config_name):\n",
    "        \n",
    "        config_dict = {\n",
    "          \"cm_vsm_executable\" : \"cm_vsm\",\n",
    "          \"folder_name\": \"data\",\n",
    "          \"product_name\": f\"{product_name}\",\n",
    "          \"level_product\": \"L2A\",\n",
    "          \"overlapping\": 0.0625,\n",
    "          \"tile_size\": 512,\n",
    "          \"resampling_method\" : \"sinc\",\n",
    "          \"architecture\": \"Unet\",\n",
    "          \"batch_size\": 1,\n",
    "          \"aoi_geometry\": \"\"\n",
    "        }\n",
    "        \n",
    "        caminho_json_config = f'./config/{json_config_name}'\n",
    "        \n",
    "        with cwd(kappa_mask_folder):\n",
    "            with open(caminho_json_config, 'w') as arquivo:\n",
    "                json.dump(config_dict, arquivo, indent=2)\n",
    "        \n",
    "        \n",
    "        \n",
    "    \n",
    "    def sen2cor(self,sen2cor_folder='../Sen2Cor-02.11.00-Linux64/',resolucao=60):\n",
    "        for diretorio in self.caminho_completo_lista:\n",
    "            yield self._processar_resultados_sen2cor(sen2cor_folder,resolucao)\n",
    "            \n",
    "    def _processar_resultados_sen2cor(self, sen2cor_folder, resolucao=60):\n",
    "        with cwd(self.caminho):\n",
    "            for diretorio in self.caminho_completo_lista:\n",
    "                dir_index = self.caminho_completo_lista.index(diretorio)\n",
    "\n",
    "                temp = self.imgs_diretorio[dir_index].split('_')\n",
    "\n",
    "                diretorio_substring = '_'.join(temp[:3])\n",
    "                \n",
    "                output_path = os.path.abspath(obj.diretorios_tif[dir_index])\n",
    "                \n",
    "                # Executa o Sen2Cor para processar os dados\n",
    "                comando = f\"{sen2cor_folder}/bin/L2A_Process {diretorio} --resolution {resolucao} --output_dir {output_path}\"\n",
    "\n",
    "                subprocess.run(comando, shell=True)\n",
    "                \n",
    "                safe_dir = [item for item in os.listdir(output_path) if item.endswith('.SAFE')][0]\n",
    "                \n",
    "                caminho_scl = os.path.join(f'{output_path}',f\"{safe_dir}\", 'GRANULE', 'L2A*', 'IMG_DATA', 'R60m', '*SCL_60m.jp2')\n",
    "                \n",
    "                # Obtém uma lista de arquivos SCL_60m.jp2 nos diretórios correspondentes\n",
    "                resultados_scl = glob.glob(caminho_scl)[0]\n",
    "                \n",
    "                # Processa os resultados conforme necessário\n",
    "                classification_map = gdal.Open(resultados_scl).ReadAsArray()\n",
    "\n",
    "                return classification_map\n",
    "        \n",
    "        \n",
    "                \n",
    "obj = Modelos('./')\n",
    "#obj.start() # Executar uma vez"
   ]
  },
  {
   "cell_type": "code",
   "execution_count": 60,
   "id": "b8f4bbaa-8d55-4d57-a388-b5f9f9233696",
   "metadata": {
    "tags": []
   },
   "outputs": [
    {
     "data": {
      "text/plain": [
       "['./S2A_MSIL1C_20230918T144731_N0509_R139_T19LGL_20230918T180815.SAFE',\n",
       " './S2B_MSIL1C_20220705T135709_N0400_R067_T21MYS_20220705T172624.SAFE',\n",
       " './S2B_MSIL1C_20230604T151709_N0509_R125_T18MXA_20230604T181707.SAFE',\n",
       " './S2B_MSIL1C_20231010T143729_N0509_R096_T20MMC_20231010T180007.SAFE']"
      ]
     },
     "execution_count": 60,
     "metadata": {},
     "output_type": "execute_result"
    }
   ],
   "source": [
    "obj.caminho_completo_lista"
   ]
  },
  {
   "cell_type": "code",
   "execution_count": 62,
   "id": "ab1104b3-3d41-441e-b99d-ef9580ca32b9",
   "metadata": {
    "tags": []
   },
   "outputs": [
    {
     "name": "stdout",
     "output_type": "stream",
     "text": [
      "Symlink criado com sucesso: /home/jean/Documents/Python/km_predict-main/data/S2A_MSIL1C_20230918T144731_N0509_R139_T19LGL_20230918T180815.SAFE -> /home/jean/Documents/Python/sen2corimgs/S2A_MSIL1C_20230918T144731_N0509_R139_T19LGL_20230918T180815.SAFE\n",
      "Symlink criado com sucesso: /home/jean/Documents/Python/km_predict-main/data/S2B_MSIL1C_20220705T135709_N0400_R067_T21MYS_20220705T172624.SAFE -> /home/jean/Documents/Python/sen2corimgs/S2B_MSIL1C_20220705T135709_N0400_R067_T21MYS_20220705T172624.SAFE\n",
      "Symlink criado com sucesso: /home/jean/Documents/Python/km_predict-main/data/S2B_MSIL1C_20230604T151709_N0509_R125_T18MXA_20230604T181707.SAFE -> /home/jean/Documents/Python/sen2corimgs/S2B_MSIL1C_20230604T151709_N0509_R125_T18MXA_20230604T181707.SAFE\n",
      "Symlink criado com sucesso: /home/jean/Documents/Python/km_predict-main/data/S2B_MSIL1C_20231010T143729_N0509_R096_T20MMC_20231010T180007.SAFE -> /home/jean/Documents/Python/sen2corimgs/S2B_MSIL1C_20231010T143729_N0509_R096_T20MMC_20231010T180007.SAFE\n"
     ]
    }
   ],
   "source": [
    "teste = obj.kappa_mask('../km_predict-main')"
   ]
  },
  {
   "cell_type": "code",
   "execution_count": 3,
   "id": "c28b9520-c180-4eba-93c0-678a73c63b92",
   "metadata": {
    "tags": []
   },
   "outputs": [],
   "source": [
    "prob,mask = next(obj.s2cloudless())"
   ]
  },
  {
   "cell_type": "code",
   "execution_count": 35,
   "id": "08d01f28-3b09-429e-9c71-dd9df7265236",
   "metadata": {
    "scrolled": true,
    "tags": []
   },
   "outputs": [
    {
     "name": "stdout",
     "output_type": "stream",
     "text": [
      "Product versions > 14.9 are not implemented yet.\n",
      "Version 14.9 will be used by default, but warnings during validation might occur.\n",
      "\n",
      "Sen2Cor. Version: 02.11.00, created: 2022.10.20, supporting Level-1C product version 14.2 - 14.9 started ...\n",
      "Product version: 14.9\n",
      "Operation mode: TOOLBOX\n",
      "Processing baseline: 99.99\n",
      "Progress[%]:  0.00 : Generating datastrip metadata\n",
      "L2A datastrip successfully generated\n",
      "Selected resolution: 60 m\n",
      "Progress[%]: 0.77 : PID-47374, L2A_ProcessTile: processing with resolution 60 m, elapsed time[s]: 1.000, total: 0:00:05.019156\n",
      "Progress[%]: 0.77 : PID-47374, L2A_ProcessTile: start of pre processing, elapsed time[s]: 0.000, total: 0:00:05.019474\n",
      "Progress[%]: 0.80 : PID-47374, L2A_Tables: start import, elapsed time[s]: 0.039, total: 0:00:05.058408\n",
      "Progress[%]: 1.61 : PID-47374, L2A_Tables: band B01 imported, elapsed time[s]: 1.037, total: 0:00:06.095117\n",
      "Progress[%]: 4.43 : PID-47374, L2A_Tables: band B02 imported, elapsed time[s]: 3.652, total: 0:00:09.747356\n",
      "Progress[%]: 7.34 : PID-47374, L2A_Tables: band B03 imported, elapsed time[s]: 3.758, total: 0:00:13.505620\n",
      "Progress[%]: 10.25 : PID-47374, L2A_Tables: band B04 imported, elapsed time[s]: 3.761, total: 0:00:17.266155\n",
      "Progress[%]: 11.57 : PID-47374, L2A_Tables: band B05 imported, elapsed time[s]: 1.701, total: 0:00:18.966971\n",
      "Progress[%]: 12.86 : PID-47374, L2A_Tables: band B06 imported, elapsed time[s]: 1.668, total: 0:00:20.634985\n",
      "Progress[%]: 14.14 : PID-47374, L2A_Tables: band B07 imported, elapsed time[s]: 1.646, total: 0:00:22.281000\n",
      "Progress[%]: 15.42 : PID-47374, L2A_Tables: band B8A imported, elapsed time[s]: 1.658, total: 0:00:23.939482\n",
      "Progress[%]: 16.15 : PID-47374, L2A_Tables: band B09 imported, elapsed time[s]: 0.944, total: 0:00:24.883846\n",
      "Progress[%]: 16.92 : PID-47374, L2A_Tables: band B10 imported, elapsed time[s]: 0.993, total: 0:00:25.876346\n",
      "Progress[%]: 18.21 : PID-47374, L2A_Tables: band B11 imported, elapsed time[s]: 1.671, total: 0:00:27.547662\n",
      "Progress[%]: 19.58 : PID-47374, L2A_Tables: band B12 imported, elapsed time[s]: 1.770, total: 0:00:29.318101\n",
      "Progress[%]: 19.64 : PID-47374, L2A_Tables: AUX_CAMS* file found., elapsed time[s]: 0.066, total: 0:00:29.383698\n",
      "Progress[%]: 20.58 : PID-47374, L2A_Tables: Visibility map from file AUX_CAMSFO prepared, elapsed time[s]: 1.226, total: 0:00:30.609233\n",
      "Progress[%]: 20.66 : PID-47374, L2A_ProcessTile: start of Scene Classification, elapsed time[s]: 0.097, total: 0:00:30.706482\n",
      "Progress[%]: 20.96 : PID-47374, L2A_Tables: band B02 must be resampled, elapsed time[s]: 0.389, total: 0:00:31.095643\n",
      "Progress[%]: 21.42 : PID-47374, Pre process   , elapsed time[s]: 0.599, total: 0:00:31.694654\n",
      "Progress[%]: 21.63 : PID-47374, L2A_Tables: band B03 must be resampled, elapsed time[s]: 0.263, total: 0:00:31.957252\n",
      "Progress[%]: 22.15 : PID-47374, L2A_Tables: band B04 must be resampled, elapsed time[s]: 0.669, total: 0:00:32.625816\n",
      "Progress[%]: 22.59 : PID-47374, L2A_Tables: band B05 must be resampled, elapsed time[s]: 0.569, total: 0:00:33.194957\n",
      "Progress[%]: 22.79 : PID-47374, L2A_Tables: band B06 must be resampled, elapsed time[s]: 0.262, total: 0:00:33.456912\n",
      "Progress[%]: 23.03 : PID-47374, L2A_Tables: band B07 must be resampled, elapsed time[s]: 0.311, total: 0:00:33.768158\n",
      "Progress[%]: 23.27 : PID-47374, L2A_Tables: band B8A must be resampled, elapsed time[s]: 0.310, total: 0:00:34.078545\n",
      "Progress[%]: 23.54 : PID-47374, L2A_Tables: band B11 must be resampled, elapsed time[s]: 0.352, total: 0:00:34.430734\n",
      "Progress[%]: 23.75 : PID-47374, L2A_Tables: band B12 must be resampled, elapsed time[s]: 0.262, total: 0:00:34.692692\n",
      "Progress[%]: 23.99 : PID-47374, L2A_SC init   , elapsed time[s]: 0.319, total: 0:00:35.011836\n",
      "Progress[%]: 24.24 : PID-47374, L2A_CSND_1_1  , elapsed time[s]: 0.325, total: 0:00:35.337148\n",
      "Progress[%]: 24.44 : PID-47374, L2A_CSND_1_2  , elapsed time[s]: 0.250, total: 0:00:35.587074\n",
      "Progress[%]: 24.89 : PID-47374, L2A_CSND_3    , elapsed time[s]: 0.589, total: 0:00:36.176370\n",
      "Progress[%]: 25.14 : PID-47374, L2A_CSND_5_1  , elapsed time[s]: 0.322, total: 0:00:36.498091\n",
      "Progress[%]: 25.51 : PID-47374, L2A_CSND_5_2  , elapsed time[s]: 0.471, total: 0:00:36.969165\n",
      "Progress[%]: 25.81 : PID-47374, L2A_CSND_6    , elapsed time[s]: 0.393, total: 0:00:37.362086\n",
      "Progress[%]: 26.01 : PID-47374, L2A_CSND_6_2  , elapsed time[s]: 0.250, total: 0:00:37.612311\n",
      "Progress[%]: 26.33 : PID-47374, L2A_CSND_7    , elapsed time[s]: 0.419, total: 0:00:38.030918\n",
      "Progress[%]: 26.65 : PID-47374, DV recovery   , elapsed time[s]: 0.420, total: 0:00:38.451191\n",
      "Progress[%]: 26.96 : PID-47374, WP recovery   , elapsed time[s]: 0.390, total: 0:00:38.840973\n",
      "Progress[%]: 27.05 : PID-47374, WP recovery with CCI Water Bodies at 150m  , elapsed time[s]: 0.119, total: 0:00:38.959514\n",
      "Progress[%]: 27.30 : PID-47374, Snow recovery , elapsed time[s]: 0.321, total: 0:00:39.280034\n",
      "Progress[%]: 27.95 : PID-47374, SnowSoilBorders, elapsed time[s]: 0.850, total: 0:00:40.130029\n",
      "Progress[%]: 28.17 : PID-47374, Soil recovery , elapsed time[s]: 0.284, total: 0:00:40.414323\n",
      "Progress[%]: 28.19 : PID-47374, Cirrus recovery with B10 , elapsed time[s]: 0.017, total: 0:00:40.431584\n",
      "Progress[%]: 28.19 : PID-47374, Urban and Bare pixel recovery with CCI Land Cover Map at 300 m , elapsed time[s]: 0.001, total: 0:00:40.432692\n",
      "Progress[%]: 29.36 : PID-47374, Bright pixels Hollstein Fmask, elapsed time[s]: 1.510, total: 0:00:41.942777\n",
      "Cloud heights processed in 0:00:05.213326 seconds\n",
      "Progress[%]: 39.94 : PID-47374, L2A_SHD       , elapsed time[s]: 13.673, total: 0:00:55.616244\n",
      "Progress[%]: 39.94 : PID-47374, WP recovery with CCI Water Bodies at 150m  , elapsed time[s]: 0.001, total: 0:00:55.617653\n",
      "Progress[%]: 40.09 : PID-47374, Topographic casted shadow Pixels post processing, elapsed time[s]: 0.190, total: 0:00:55.807251\n",
      "Progress[%]: 40.16 : PID-47374, Post process  , elapsed time[s]: 0.084, total: 0:00:55.891195\n",
      "Progress[%]: 40.16 : PID-47374, L2A_ProcessTile: start of Atmospheric Correction, elapsed time[s]: 0.011, total: 0:00:55.902010\n",
      "Progress[%]: 40.27 : PID-47374, L2A_AtmCorr: end of calculation terrain maps, elapsed time[s]: 0.138, total: 0:00:56.039638\n",
      "Progress[%]: 40.27 : PID-47374, L2A_AtmCorr: start of AOT retrieval at 550nm, elapsed time[s]: 0.001, total: 0:00:56.040161\n",
      "Progress[%]: 41.42 : PID-47374, L2A_AtmCorr: end of internal classification, elapsed time[s]: 1.484, total: 0:00:57.524314\n",
      "Progress[%]: 41.97 : PID-47374, L2A_AtmCorr: end of interpolation LUTs, elapsed time[s]: 0.715, total: 0:00:58.238875\n",
      "Progress[%]: 43.74 : PID-47374, L2A_AtmCorr: end retrieving reference pixels for dark areas, elapsed time[s]: 2.282, total: 0:01:00.520852\n",
      "Progress[%]: 48.61 : PID-47374, L2A_AtmCorr: end of check for negative reflectance pixels, elapsed time[s]: 6.292, total: 0:01:06.812932\n",
      "Progress[%]: 49.44 : PID-47374, L2A_AtmCorr: the rescaling of path radiance in blue band has been disabled by configuration, elapsed time[s]: 1.072, total: 0:01:07.884554\n",
      "Progress[%]: 50.69 : PID-47374, L2A_AtmCorr: end of visibility index calculation, elapsed time[s]: 1.608, total: 0:01:09.492865\n",
      "Progress[%]: 50.69 : PID-47374, L2A_AtmCorr: end of AOT retrieval at 550nm, elapsed time[s]: 0.001, total: 0:01:09.493437\n",
      "Progress[%]: 50.69 : PID-47374, L2A_AtmCorr: start of water vapour retrieval, elapsed time[s]: 0.000, total: 0:01:09.493635\n",
      "Progress[%]: 51.20 : PID-47374, L2A_AtmCorr: end of water vapour retrieval preparation, elapsed time[s]: 0.662, total: 0:01:10.155650\n",
      "Progress[%]: 64.56 : PID-47374, L2A_AtmCorr: end of water vapour retrieval, elapsed time[s]: 17.263, total: 0:01:27.418400\n",
      "Progress[%]: 64.56 : PID-47374, L2A_AtmCorr: preparation of surface reflectance retrieval, elapsed time[s]: 0.000, total: 0:01:27.418733\n",
      "Progress[%]: 67.63 : PID-47374, L2A_AtmCorr: end of surface reflectance retrieval preparation, elapsed time[s]: 3.965, total: 0:01:31.383548\n",
      "Progress[%]: 67.63 : PID-47374, L2A_AtmCorr: start of surface reflectance retrieval, elapsed time[s]: 0.000, total: 0:01:31.383935\n",
      "Progress[%]: 79.80 : PID-47374, L2A_AtmCorr: end of surface reflectance retrieval, elapsed time[s]: 15.718, total: 0:01:47.102070\n",
      "Progress[%]: 79.80 : PID-47374, L2A_AtmCorr: start of rho retrieval step 2, elapsed time[s]: 0.001, total: 0:01:47.103293\n",
      "Progress[%]: 82.96 : PID-47374, L2A_AtmCorr: end of rho retrieval step 2, elapsed time[s]: 4.084, total: 0:01:51.187162\n",
      "Progress[%]: 82.96 : PID-47374, L2A_ProcessTile: start of post processing, elapsed time[s]: 0.003, total: 0:01:51.190149\n",
      "Progress[%]: 83.05 : PID-47374, L2A_Tables: start export for 60 m resolution, elapsed time[s]: 0.109, total: 0:01:51.298666\n",
      "Progress[%]: 83.75 : PID-47374, L2A_Tables: band B01 exported, elapsed time[s]: 0.906, total: 0:01:52.204460\n",
      "Progress[%]: 84.50 : PID-47374, L2A_Tables: band B02 exported, elapsed time[s]: 0.967, total: 0:01:53.170980\n",
      "Progress[%]: 85.24 : PID-47374, L2A_Tables: band B03 exported, elapsed time[s]: 0.954, total: 0:01:54.124830\n",
      "Progress[%]: 85.97 : PID-47374, L2A_Tables: band B04 exported, elapsed time[s]: 0.946, total: 0:01:55.070690\n",
      "Progress[%]: 86.72 : PID-47374, L2A_Tables: band B05 exported, elapsed time[s]: 0.971, total: 0:01:56.041789\n",
      "Progress[%]: 87.50 : PID-47374, L2A_Tables: band B06 exported, elapsed time[s]: 1.007, total: 0:01:57.048875\n",
      "Progress[%]: 88.30 : PID-47374, L2A_Tables: band B07 exported, elapsed time[s]: 1.034, total: 0:01:58.082605\n",
      "Progress[%]: 89.09 : PID-47374, L2A_Tables: band B8A exported, elapsed time[s]: 1.021, total: 0:01:59.103573\n",
      "Progress[%]: 89.89 : PID-47374, L2A_Tables: band B09 exported, elapsed time[s]: 1.037, total: 0:02:00.140968\n",
      "Progress[%]: 90.67 : PID-47374, L2A_Tables: band B11 exported, elapsed time[s]: 1.001, total: 0:02:01.141908\n",
      "Progress[%]: 91.42 : PID-47374, L2A_Tables: band B12 exported, elapsed time[s]: 0.971, total: 0:02:02.112786\n",
      "Progress[%]: 91.57 : PID-47374, L2A_Tables: band SCL exported, elapsed time[s]: 0.194, total: 0:02:02.306442\n",
      "Progress[%]: 91.62 : PID-47374, L2A_Tables: band SNW exported, elapsed time[s]: 0.070, total: 0:02:02.376212\n",
      "Progress[%]: 91.89 : PID-47374, L2A_Tables: band CLD exported, elapsed time[s]: 0.342, total: 0:02:02.718212\n",
      "Progress[%]: 91.98 : PID-47374, L2A_Tables: band AOT exported, elapsed time[s]: 0.119, total: 0:02:02.836973\n",
      "Progress[%]: 92.54 : PID-47374, L2A_Tables: band WVP exported, elapsed time[s]: 0.721, total: 0:02:03.558224\n",
      "Progress[%]: 92.69 : PID-47374, L2A_Tables: band PVI exported, elapsed time[s]: 0.197, total: 0:02:03.754759\n",
      "Progress[%]: 94.17 : PID-47374, L2A_Tables: band TCI exported, elapsed time[s]: 1.907, total: 0:02:05.661582\n",
      "Progress[%]: 94.17 : PID-47374, L2A_Tables: stop export, elapsed time[s]: 0.002, total: 0:02:05.663626\n",
      "Progress[%]: 100.00 : Application terminated successfully.\n",
      "\n"
     ]
    }
   ],
   "source": [
    "mapa_de_classificacao = next(obj.sen2cor())"
   ]
  },
  {
   "cell_type": "code",
   "execution_count": 53,
   "id": "23723eb1-74ce-4104-bfe9-5ade7f8a17a3",
   "metadata": {
    "collapsed": true,
    "jupyter": {
     "outputs_hidden": true
    },
    "scrolled": true,
    "tags": []
   },
   "outputs": [
    {
     "name": "stdout",
     "output_type": "stream",
     "text": [
      "------------------------------------------\n",
      "Setting up environment variables\n",
      "---\n",
      "LD_LIBRARY_PATH is .:/usr/local/MATLAB/MATLAB_Runtime/v910/runtime/glnxa64:/usr/local/MATLAB/MATLAB_Runtime/v910/bin/glnxa64:/usr/local/MATLAB/MATLAB_Runtime/v910/sys/os/glnxa64:/usr/local/MATLAB/MATLAB_Runtime/v910/sys/opengl/lib/glnxa64\n",
      "Fmask 4.6 start ...\n",
      "Cloud/cloud shadow/snow dilated by 3/3/0 pixels.\n",
      "Cloud probability threshold of 20.00%.\n",
      "Load or calculate TOA reflectances.\n",
      "Successully locate the auxiliary data.\n",
      "Detect potential clouds, cloud shadows, snow, and water.\n",
      "Match cloud shadows with clouds.\n",
      "Fmask 4.6 finished (6.79 minutes)\n",
      "for L1C_T19LGL_A043036_20230918T144729 with 52.74% clear pixels\n",
      "\n",
      "FMASK_DATA/L1C_T19LGL_A043036_20230918T144729_Fmask4.tif\n",
      "[[  0   0   0 ...   0   0   0]\n",
      " [  0   0   0 ...   0   0   0]\n",
      " [  0   0   0 ...   0   0   0]\n",
      " ...\n",
      " [  4   4   4 ... 255 255 255]\n",
      " [  4   4   4 ... 255 255 255]\n",
      " [  4   4   4 ... 255 255 255]]\n"
     ]
    }
   ],
   "source": [
    "mascara_de_classificacao = next(obj.fmask())"
   ]
  },
  {
   "cell_type": "code",
   "execution_count": 69,
   "id": "b6c60f93-8f99-4f68-9a8d-d458ea0335c9",
   "metadata": {
    "tags": []
   },
   "outputs": [
    {
     "name": "stderr",
     "output_type": "stream",
     "text": [
      "/bin/sh: 1: micromamba: not found\n"
     ]
    },
    {
     "data": {
      "text/plain": [
       "<Popen: returncode: None args: 'micromamba --version'>"
      ]
     },
     "execution_count": 69,
     "metadata": {},
     "output_type": "execute_result"
    }
   ],
   "source": [
    "subprocess.Popen('micromamba --version',shell=True)"
   ]
  },
  {
   "cell_type": "markdown",
   "id": "a03c6afc-b94d-4e67-8353-d03a0eaedf32",
   "metadata": {
    "jp-MarkdownHeadingCollapsed": true,
    "tags": []
   },
   "source": [
    "## SOM (Não mexer)"
   ]
  },
  {
   "cell_type": "code",
   "execution_count": 3,
   "id": "48c7903c-59f0-4e60-b586-4f9b53a70a17",
   "metadata": {
    "tags": []
   },
   "outputs": [
    {
     "name": "stdout",
     "output_type": "stream",
     "text": [
      "author\n",
      "band\n",
      "bandwidth_nm\n",
      "central_wavelength_nm\n",
      "cite\n",
      "class_ids\n",
      "class_names\n",
      "classes\n",
      "continent\n",
      "country\n",
      "dates\n",
      "granule_id\n",
      "latitude\n",
      "licence\n",
      "longitude\n",
      "product_id\n",
      "spatial_sampling_m\n",
      "spectra\n",
      "sun_azimuth_angle\n",
      "sun_zenith_angle\n",
      "viewing_azimuth_angle\n",
      "viewing_zenith_angle\n",
      "[b'Clear' b'Water' b'Snow' b'Cirrus' b'Cloud' b'Shadow']\n"
     ]
    }
   ],
   "source": [
    "# import required libraries\n",
    "import h5py as h5\n",
    "import numpy as np\n",
    "\n",
    "# Read H5 file\n",
    "# This file carries a database with spectra for cloud masking applications. It was created during the study described in https://doi.org/10.3390/rs8080666\n",
    "# It can be downloaded from https://git.gfz-potsdam.de/EnMAP/sentinel2_manual_classification_clouds\n",
    "\n",
    "f = h5.File(\"20160914_s2_manual_classification_data.h5\", \"r\")\n",
    "\n",
    "# Get and print list of datasets within the H5 file\n",
    "datasetNames = [n for n in f.keys()]\n",
    "for n in datasetNames:\n",
    "        print(n)\n",
    "        \n",
    "# extract reflectance data from the H5 file\n",
    "\n",
    "#class_ids \n",
    "class_ids=f['class_ids']\n",
    "class_idsData=class_ids[:]\n",
    "\n",
    "#class_names\n",
    "class_names=f['class_names']\n",
    "print(class_names[:])\n",
    "\n",
    "#spectra\n",
    "spectra=f['spectra'] \n",
    "spectraData=spectra[:]   \n",
    "\n",
    "#classes\n",
    "classes=f['classes'] \n",
    "classesData=classes[:]  \n",
    "\n",
    "# Create array that contains the spectra and the class labels\n",
    "'''Each row contains 14 collumns: a) 13 collumns for the reflectance values of Sentinel-2 satellite spectra,\n",
    "#b) one column for the label of the spectra. There are six classes, thus six different\n",
    " labels:\"10:land\", \"20:water\", \"30:shadow\", \"40:cirrus\", \"50:opaque cloud\", \"60:snow\".'''\n",
    "classesData=np.expand_dims(classesData,1)\n",
    "Array_spectra_labels=np.concatenate((spectraData,classesData), axis=1)\n",
    "\n",
    "#Save the array with the spectra and the labels\n",
    "np.savetxt(\"2016_spectraSOMs.csv\", Array_spectra_labels, delimiter=',', header=\" #B1,  #B2,  #B3,  #B4, #B5, #B6, #B7, #B8, #B8a, #B9, #B10, #B11, #B12, #label\",fmt='%10.4f')"
   ]
  },
  {
   "cell_type": "code",
   "execution_count": 5,
   "id": "807e9908-7393-4ec8-8e56-6d5dc999e2e2",
   "metadata": {
    "tags": []
   },
   "outputs": [
    {
     "name": "stdout",
     "output_type": "stream",
     "text": [
      " Cluster 1\n",
      " Cluster 2\n",
      " Cluster 3\n",
      " Cluster 4\n",
      " Cluster 5\n",
      " Cluster 6\n",
      " Cluster 7\n",
      " Cluster 8\n",
      " Cluster 9\n"
     ]
    }
   ],
   "source": [
    "#Detecting the BMUs\n",
    "\n",
    "#Importing libraries\n",
    "import numpy as np\n",
    "import susi #The susi package can be found in https://pypi.org/project/susi/\n",
    "import pickle\n",
    "\n",
    "#Load the trained SOM\n",
    "with open('SOM_trained.p', 'rb') as infile:\n",
    "   som = pickle.load(infile)\n",
    "\n",
    "#size: number of rows of the training set\n",
    "size=len(X_train) #X_train was defined in \"data_preprocessing.py\"\n",
    "\n",
    "#Separating the training spectra into smaller arrays \n",
    "X_train1=X_train[0:1000000,:]\n",
    "X_train2=X_train[1000000:2000000,:]\n",
    "X_train3=X_train[2000000:3000000,:]\n",
    "X_train4=X_train[3000000:4000000,:]\n",
    "X_train5=X_train[4000000:5000000,:]\n",
    "X_train6=X_train[5000000:6000000,:]\n",
    "X_train7=X_train[6000000:7000000,:]\n",
    "X_train8=X_train[7000000:8000000,:]\n",
    "X_train9=X_train[8000000:size,:]\n",
    "\n",
    "#Detecting the coordinates of the Best Matching Units (BMUs) for each spectral signature of the training set. The coordinates are stored in a list data type.\n",
    "print(\" Cluster 1\" )\n",
    "clusters1 = som.get_clusters(X_train1)\n",
    "print(\" Cluster 2\" )\n",
    "clusters2 = som.get_clusters(X_train2)\n",
    "print(\" Cluster 3\" )\n",
    "clusters3 = som.get_clusters(X_train3)\n",
    "print(\" Cluster 4\" )\n",
    "clusters4 = som.get_clusters(X_train4)\n",
    "print(\" Cluster 5\" )\n",
    "clusters5 = som.get_clusters(X_train5)\n",
    "print(\" Cluster 6\" )\n",
    "clusters6 = som.get_clusters(X_train6)\n",
    "print(\" Cluster 7\" )\n",
    "clusters7 = som.get_clusters(X_train7)\n",
    "print(\" Cluster 8\" )\n",
    "clusters8 = som.get_clusters(X_train8)\n",
    "print(\" Cluster 9\" )\n",
    "clusters9 = som.get_clusters(X_train9)\n",
    "\n",
    "#Joining all BMU lists to one\n",
    "clusters=clusters1+clusters2+clusters3+clusters4+clusters5+clusters6+clusters7+clusters8+clusters9\n",
    "\n",
    "#Creating an array data type to store the BMUs\n",
    "BMUs=np.zeros((size,2))\n",
    "\n",
    "for i in range (size):\n",
    "    BMUs[i,:]=clusters[i]\n",
    "\n",
    "#Saving the BMUs in a .csv file\n",
    "np.savetxt('BMUs.csv', BMUs, delimiter=',', header=\"position1, #position2\", fmt='%10.0f')"
   ]
  },
  {
   "cell_type": "code",
   "execution_count": 1,
   "id": "8e33bfe8-6729-4d78-ae10-9c1d5104c392",
   "metadata": {
    "tags": []
   },
   "outputs": [
    {
     "name": "stdout",
     "output_type": "stream",
     "text": [
      " The file number is 1\n",
      "--- 0.0002605915069580078 seconds ---\n",
      "(13, 1830, 1830)\n",
      " The file number is 2\n",
      "--- 19.32036519050598 seconds ---\n"
     ]
    },
    {
     "name": "stderr",
     "output_type": "stream",
     "text": [
      "ERROR 4: `.ipynb_checkpoints' not recognized as a supported file format.\n"
     ]
    },
    {
     "ename": "AttributeError",
     "evalue": "'NoneType' object has no attribute 'ReadAsArray'",
     "output_type": "error",
     "traceback": [
      "\u001b[0;31m---------------------------------------------------------------------------\u001b[0m",
      "\u001b[0;31mAttributeError\u001b[0m                            Traceback (most recent call last)",
      "Cell \u001b[0;32mIn[1], line 26\u001b[0m\n\u001b[1;32m     24\u001b[0m \u001b[38;5;28mprint\u001b[39m(\u001b[38;5;124m\"\u001b[39m\u001b[38;5;124m--- \u001b[39m\u001b[38;5;132;01m%s\u001b[39;00m\u001b[38;5;124m seconds ---\u001b[39m\u001b[38;5;124m\"\u001b[39m \u001b[38;5;241m%\u001b[39m (time\u001b[38;5;241m.\u001b[39mtime() \u001b[38;5;241m-\u001b[39m start_time)) \n\u001b[1;32m     25\u001b[0m ds\u001b[38;5;241m=\u001b[39mgdal\u001b[38;5;241m.\u001b[39mOpen(file) \n\u001b[0;32m---> 26\u001b[0m imarray \u001b[38;5;241m=\u001b[39m np\u001b[38;5;241m.\u001b[39marray(ds\u001b[38;5;241m.\u001b[39mReadAsArray())\n\u001b[1;32m     27\u001b[0m \u001b[38;5;28mprint\u001b[39m(imarray\u001b[38;5;241m.\u001b[39mshape)\n\u001b[1;32m     28\u001b[0m sizex\u001b[38;5;241m=\u001b[39m  \u001b[38;5;241m.\u001b[39m\u001b[38;5;241m.\u001b[39m\u001b[38;5;241m.\u001b[39m\u001b[38;5;66;03m# enter size of image, i.e. rows x collumns\u001b[39;00m\n",
      "\u001b[0;31mAttributeError\u001b[0m: 'NoneType' object has no attribute 'ReadAsArray'"
     ]
    }
   ],
   "source": [
    "#Convert a Sentinel-2 image with 13 bands to a .csv file. \n",
    "#Each row of the output file contains the 13 values of the spectral signature\n",
    "\n",
    "    \n",
    "import os\n",
    "import pandas as pd\n",
    "from osgeo import gdal\n",
    "from os.path import splitext\n",
    "import numpy as np\n",
    "import time\n",
    "\n",
    "try:\n",
    "    directory = os.listdir('../sen2corimgs/L1C_IMAGEM_1/img tif/')\n",
    "    os.chdir('../sen2corimgs/L1C_IMAGEM_1/img tif/')\n",
    "except:\n",
    "    directory = ['merge.tif']\n",
    "\n",
    "c=0\n",
    "start_time = time.time()   \n",
    "\n",
    "for file in directory:\n",
    "    c=c+1\n",
    "    print(\" The file number is %s\" %c) \n",
    "    print(\"--- %s seconds ---\" % (time.time() - start_time)) \n",
    "    ds=gdal.Open(file) \n",
    "    imarray = np.array(ds.ReadAsArray())\n",
    "    print(imarray.shape)\n",
    "    sizex=  ...# enter size of image, i.e. rows x collumns\n",
    "    reshape=np.reshape(imarray, (13,1830*1830)) # '13' is the number of bands\n",
    "    reshape2=reshape.T\n",
    "    reshape3=reshape2/10000 # scaling the values\n",
    "    file_name = os.path.basename(file)\n",
    "    new_filename = file_name.split('.')[0]\n",
    "    np.savetxt(new_filename + \"_converted.csv\", reshape3, delimiter=',', header=\" #B1,  #B2,  #B3,  #B4, #B5, #B6, #B7, #B8, #B8a, #B9, #B10, #B11, #B12\",fmt='%10.4f')\n",
    "    break"
   ]
  },
  {
   "cell_type": "code",
   "execution_count": 1,
   "id": "5c88619f-3383-4d0a-818b-24680cc047db",
   "metadata": {
    "tags": []
   },
   "outputs": [],
   "source": [
    "#Data preprocessing\n",
    "\n",
    "# Importing the libraries\n",
    "import numpy as np\n",
    "import pandas as pd\n",
    "\n",
    "# Importing the datasets\n",
    "# The datasets are two .csv files which were created by extracting the spectra from two .h5 files as explained in the file \"read_h5file.py\". Each row contains 14 collumns: a) 13 collumns for the reflectance values of Sentinel-2 satellite spectra, b) one column for the label of the spectra. There are six classes, thus six different labels:\"10:land\", \"20:water\", \"30:shadow\", \"40:cirrus\", \"50:opaque cloud\", \"60:snow\".  \n",
    "\n",
    "dataset1 = pd.read_csv('2016_spectraSOMs.csv') #.csv file with spectra extracted from the first .h5 file.\n",
    "#X_train1 = dataset1.iloc[:, 'collumn of 1st band':'collumn of last band'].values\n",
    "X_train1 = dataset1.iloc[:, 0:13].values\n",
    "#y1=dataset1.iloc[:, \"collumn with labels\"].values\n",
    "y1=dataset1.iloc[:, 13].values\n",
    "\n",
    "dataset2 = pd.read_csv('2017_spectraSOMs.csv') #.csv file with spectra extracted from the second .h5 file.\n",
    "#X_train2 = dataset2.iloc[:, 'collumn of 1st band':'collumn of last band'].values\n",
    "X_train2 = dataset2.iloc[:, 0:13].values\n",
    "#y2=dataset2.iloc[:, \"collumn with labels\"].values\n",
    "y2=dataset2.iloc[:, 13].values\n",
    "\n",
    "# Concatenating the spectra of the two datasets in one array\n",
    "X_traina=np.concatenate((X_train1,X_train2), axis=0) \n",
    "\n",
    "# Concatenating the labels of the two datasets in one array\n",
    "ya=np.concatenate((y1,y2), axis=0)\n",
    "\n",
    "# Feature Scaling\n",
    "from sklearn.preprocessing import MinMaxScaler\n",
    "sc = MinMaxScaler(feature_range = (0, 1))\n",
    "X_train = sc.fit_transform(X_traina)\n",
    "\n",
    "# Take a random sample in case the training process is slow\n",
    "#Define a seed to get the same indices in every run\n",
    "#np.random.seed(seed=42)\n",
    "#random_indices = np.random.choice(len(X_train), size=1000000, replace=False)\n",
    "\n",
    "#X_train=X_train[random_indices,:]"
   ]
  },
  {
   "cell_type": "code",
   "execution_count": 2,
   "id": "cd300020-aa36-4823-a4a8-d990a0229813",
   "metadata": {
    "tags": []
   },
   "outputs": [],
   "source": [
    "size=len(X_train) #X_train was defined in \"data_preprocessing.py\""
   ]
  },
  {
   "cell_type": "code",
   "execution_count": 3,
   "id": "7c6aea30-1b9e-4ff3-824c-14e80b0c6b92",
   "metadata": {
    "tags": []
   },
   "outputs": [],
   "source": [
    "import pickle\n",
    "with open('./SOM_trained.p', 'rb') as infile:\n",
    "   som = pickle.load(infile)"
   ]
  },
  {
   "cell_type": "code",
   "execution_count": 4,
   "id": "c9d4d064-7b19-45ef-b95b-5205f0afbdfe",
   "metadata": {
    "tags": []
   },
   "outputs": [],
   "source": [
    "#Labeling of SOM neurons through majority voting\n",
    "\n",
    "#Importing libraries\n",
    "import numpy as np\n",
    "import pandas as pd\n",
    "\n",
    "#Reading the .csv file that contains the coordinates of the Best Matching Units (BMUs) for each spectral signature of the training set.\n",
    "\n",
    "BMUs = pd.read_csv('BMUs.csv') #The \"BMUs.csv\" file was created in \"BMUs_detection.py\"         \n",
    "BMUs2=np.array(BMUs)\n",
    "\n",
    "#Creating an array of zeros which is of equal size to the SOM grid for each of the six classes\n",
    "Hit1=np.zeros((20,15))\n",
    "Hit2=np.zeros((20,15))\n",
    "Hit3=np.zeros((20,15))\n",
    "Hit4=np.zeros((20,15))\n",
    "Hit5=np.zeros((20,15))\n",
    "Hit6=np.zeros((20,15))\n",
    "\n",
    "#Creating the hit rate map for each class\n",
    "#ya: the data labels (\"ya\" is created in \"data_preprocessing.py\")\n",
    "for i in range (size):\n",
    "    if (ya[i]==10):\n",
    "        Hit1[int(BMUs2[i,0]),int(BMUs2[i,1])]=Hit1[int(BMUs2[i,0]),int(BMUs2[i,1])]+1\n",
    "    elif (ya[i]==20):\n",
    "        Hit2[int(BMUs2[i,0]),int(BMUs2[i,1])]=Hit2[int(BMUs2[i,0]),int(BMUs2[i,1])]+1         \n",
    "    elif (ya[i]==40):\n",
    "        Hit3[int(BMUs2[i,0]),int(BMUs2[i,1])]=Hit3[int(BMUs2[i,0]),int(BMUs2[i,1])]+1        \n",
    "    elif(ya[i]==50):\n",
    "        Hit4[int(BMUs2[i,0]),int(BMUs2[i,1])]=Hit4[int(BMUs2[i,0]),int(BMUs2[i,1])]+1 \n",
    "    elif(ya[i]==60):\n",
    "        Hit5[int(BMUs2[i,0]),int(BMUs2[i,1])]=Hit5[int(BMUs2[i,0]),int(BMUs2[i,1])]+1    \n",
    "    elif(ya[i]==30):\n",
    "        Hit6[int(BMUs2[i,0]),int(BMUs2[i,1])]=Hit6[int(BMUs2[i,0]),int(BMUs2[i,1])]+1        \n",
    "\n",
    "#Labeling of SOM neurons\n",
    "\n",
    "#Creating an array of zeros which is of equal size to the SOM grid and store the majority voting output\n",
    "labels= np.zeros((20,15))\n",
    "for i in range (20):\n",
    "    for j in range (15):\n",
    "        if (Hit1[i,j]>Hit2[i,j] and Hit1[i,j]>Hit3[i,j] and Hit1[i,j]>Hit4[i,j] and Hit1[i,j]>Hit5[i,j] and Hit1[i,j]>Hit6[i,j]):\n",
    "            labels[i,j]=10\n",
    "        elif (Hit2[i,j]>Hit1[i,j] and Hit2[i,j]>Hit3[i,j] and Hit2[i,j]>Hit4[i,j] and Hit2[i,j]>Hit5[i,j] and Hit2[i,j]>Hit6[i,j]):\n",
    "            labels[i,j]=20\n",
    "        elif (Hit3[i,j]>Hit1[i,j] and Hit3[i,j]>Hit2[i,j] and Hit3[i,j]>Hit4[i,j] and Hit3[i,j]>Hit5[i,j] and Hit3[i,j]>Hit6[i,j]):\n",
    "            labels[i,j]=40           \n",
    "        elif (Hit4[i,j]>Hit1[i,j] and Hit4[i,j]>Hit2[i,j] and Hit4[i,j]>Hit3[i,j] and Hit4[i,j]>Hit5[i,j] and Hit4[i,j]>Hit6[i,j]):\n",
    "            labels[i,j]=50    \n",
    "        elif (Hit5[i,j]>Hit1[i,j] and Hit5[i,j]>Hit2[i,j] and Hit5[i,j]>Hit3[i,j] and Hit5[i,j]>Hit4[i,j] and Hit5[i,j]>Hit6[i,j]):\n",
    "            labels[i,j]=60  \n",
    "        elif (Hit6[i,j]>Hit1[i,j] and Hit6[i,j]>Hit2[i,j] and Hit6[i,j]>Hit3[i,j] and Hit6[i,j]>Hit4[i,j] and Hit6[i,j]>Hit5[i,j]):\n",
    "            labels[i,j]=30 \n"
   ]
  },
  {
   "cell_type": "code",
   "execution_count": 5,
   "id": "e5d36800-9b40-460f-b9e0-4f41fe8be72f",
   "metadata": {
    "tags": []
   },
   "outputs": [
    {
     "name": "stdout",
     "output_type": "stream",
     "text": [
      " The file number is 1\n",
      "--- 0.0004763603210449219 seconds ---\n",
      " Cluster 3\n",
      " Cluster 5\n",
      " Finished clusters\n"
     ]
    },
    {
     "name": "stderr",
     "output_type": "stream",
     "text": [
      "/tmp/ipykernel_7668/2509982722.py:87: DeprecationWarning: <tifffile.imsave> is deprecated. Use tifffile.imwrite\n",
      "  tiff.imsave(new_filename + \"mask.tif\", reshape)\n"
     ]
    }
   ],
   "source": [
    "#Create cloud masks\n",
    "\n",
    "#Conversion of the six classes to two (cloud:\"40,50\", non-cloud:\"10,20,30,60\")\n",
    "label2=np.zeros((20,15))\n",
    "\n",
    "for i in range(20):\n",
    "    for j in range(15):\n",
    "        if labels[i,j]==40 or labels[i,j]==50:\n",
    "            label2[i,j]=255\n",
    "\n",
    "#Importing libraries\n",
    "import os, re\n",
    "import pandas as pd\n",
    "from os.path import splitext\n",
    "import numpy as np\n",
    "import tifffile as tiff\n",
    "import time\n",
    "\n",
    "\n",
    "os.chdir('../sen2corimgs/L1C_IMAGEM_1/img tif/')\n",
    "\n",
    "try:\n",
    "    directory = os.listdir('./csv folder/')\n",
    "    os.chdir('./csv folder/')\n",
    "except:\n",
    "    directory = ['merge_converted.csv']\n",
    "    \n",
    "#Sorting the directory according to the names of the files \n",
    "directory2=sorted(directory)\n",
    "\n",
    "c=0\n",
    "start_time = time.time()\n",
    "for file in directory2:\n",
    "    c=c+1\n",
    "    print(\" The file number is %s\" %c) \n",
    "    print(\"--- %s seconds ---\" % (time.time() - start_time)) \n",
    "    \n",
    "    #Reading the spectra for an image        \n",
    "    im=pd.read_csv(file)  \n",
    "    im2=np.array(im)  \n",
    " \n",
    "    size=len(im)      \n",
    "\n",
    "    im3= sc.transform(im2) #normalizes the test data based on the statistical parameters of the training data                \n",
    "\n",
    "    #Separating the image spectra into smaller arrays. The size of each image is 1830x1830 pixels thus 3348900 spectra in total    \n",
    "    X_test1=im3[0:500000,:]\n",
    "    X_test2=im3[500000:1000000,:]\n",
    "    X_test3=im3[1000000:1500000,:]\n",
    "    X_test4=im3[1500000:2000000,:]\n",
    "    X_test5=im3[2000000:2500000,:]\n",
    "    X_test6=im3[2500000:3000000,:]\n",
    "    X_test7=im3[3000000:size,:]\n",
    "    \n",
    "    #Detecting the coordinates of the Best Matching Units (BMUs) for each spectral signature. The coordinates are stored in a list data type.\n",
    "    clusters1 = som.get_clusters(X_test1)    \n",
    "    clusters2 = som.get_clusters(X_test2)\n",
    "    print(\" Cluster 3\" )\n",
    "    clusters3 = som.get_clusters(X_test3)\n",
    "    clusters4 = som.get_clusters(X_test4)\n",
    "    print(\" Cluster 5\" )\n",
    "    clusters5 = som.get_clusters(X_test5)\n",
    "    clusters6 = som.get_clusters(X_test6)    \n",
    "    clusters7 = som.get_clusters(X_test7)\n",
    "    print(\" Finished clusters\" )\n",
    "    \n",
    "    #Joining all BMU lists to one\n",
    "    clusters=clusters1+clusters2+clusters3+clusters4+clusters5+clusters6+clusters7\n",
    "\n",
    "    #Creating an array data type to store the BMUs\n",
    "    im_BMUs=np.zeros((size,2))\n",
    "\n",
    "    for i in range (size):\n",
    "        im_BMUs[i,:]=clusters[i]\n",
    "\n",
    "    #Creating an array to store the labels for the spectra of the image\n",
    "    im_labels=np.zeros((size,1))\n",
    "\n",
    "    for i in range(size):\n",
    "        im_labels[i,0]=label2[int(im_BMUs[i,0]),int(im_BMUs[i,1])] #\"labels2\" was created in \"labeling.py\"\n",
    "\n",
    "    #Creating the cloud mask \n",
    "    im_labels2=np.uint8(im_labels)      \n",
    "    reshape=np.reshape(im_labels2,(1830,1830)) \n",
    "    file_name = os.path.basename(file)\n",
    "    new_filename = file_name.split('.')[0]   \n",
    "    tiff.imsave(new_filename + \"mask.tif\", reshape)"
   ]
  },
  {
   "cell_type": "code",
   "execution_count": 3,
   "id": "3ac01bc8-04af-4d12-a4ce-39c3bf427e6b",
   "metadata": {
    "tags": []
   },
   "outputs": [
    {
     "data": {
      "text/plain": [
       "(1830, 1830)"
      ]
     },
     "execution_count": 3,
     "metadata": {},
     "output_type": "execute_result"
    }
   ],
   "source": [
    "converted_mask = gdal.Open('../sen2corimgs/L1C_IMAGEM_1/img tif/csv folder/merge_convertedmask.tif').ReadAsArray()\n",
    "converted_mask.shape"
   ]
  },
  {
   "cell_type": "code",
   "execution_count": 8,
   "id": "aeda5ec9-b7eb-44b3-83eb-88b66d1064bd",
   "metadata": {
    "tags": []
   },
   "outputs": [
    {
     "data": {
      "text/plain": [
       "{0, 255}"
      ]
     },
     "execution_count": 8,
     "metadata": {},
     "output_type": "execute_result"
    }
   ],
   "source": [
    "set(converted_mask[1])"
   ]
  },
  {
   "cell_type": "code",
   "execution_count": 4,
   "id": "0f9270cd-4312-4ff1-96b2-cf3e492e5db9",
   "metadata": {},
   "outputs": [
    {
     "data": {
      "text/plain": [
       "<matplotlib.image.AxesImage at 0x7f8c68a8bd50>"
      ]
     },
     "execution_count": 4,
     "metadata": {},
     "output_type": "execute_result"
    },
    {
     "data": {
      "image/png": "[encoded data removed]",
      "text/plain": [
       "<Figure size 640x480 with 1 Axes>"
      ]
     },
     "metadata": {},
     "output_type": "display_data"
    }
   ],
   "source": [
    "plt.imshow(converted_mask)"
   ]
  }
 ],
 "metadata": {
  "kernelspec": {
   "display_name": "Python 3 (ipykernel)",
   "language": "python",
   "name": "python3"
  },
  "language_info": {
   "codemirror_mode": {
    "name": "ipython",
    "version": 3
   },
   "file_extension": ".py",
   "mimetype": "text/x-python",
   "name": "python",
   "nbconvert_exporter": "python",
   "pygments_lexer": "ipython3",
   "version": "3.11.5"
  }
 },
 "nbformat": 4,
 "nbformat_minor": 5
}
