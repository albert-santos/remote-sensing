{
 "cells": [
  {
   "cell_type": "code",
   "execution_count": 335,
   "id": "5690f367-b659-4028-ad88-1540151ece8c",
   "metadata": {},
   "outputs": [],
   "source": [
    "import pandas as pd\n",
    "from datetime import datetime\n",
    "from statsmodels.tsa.seasonal import seasonal_decompose\n",
    "from pmdarima.arima import auto_arima\n",
    "import numpy as np\n",
    "import matplotlib.pyplot as plt\n",
    "import seaborn as sns\n",
    "from scipy.stats import mannwhitneyu,shapiro\n",
    "from sklearn.linear_model import LinearRegression"
   ]
  },
  {
   "cell_type": "code",
   "execution_count": 336,
   "id": "fab65b56-05c6-4d99-a25f-11d0a2d6293c",
   "metadata": {},
   "outputs": [],
   "source": [
    "def reg_graph_subplot(x, y, data, sct_size=None, s=10, title='', legend_visibility=True, legend_title='', xlabel='', ylabel='', fit_intercept=True, ativar_grafico_yx=False, reg_from_start=False, offset_txt_x=0.15, offset_txt_y=2.25, num_rows=1, num_cols=1, subplot_num=1, axes=None):\n",
    "    # x = eixo x do gráfico\n",
    "    # y = eixo y do gráfico\n",
    "    # data = dataframe origem dos dados que representam x e y\n",
    "    # sct_size = tamanho do scatter no gráfico BASEADO em uma coluna do dataframe\n",
    "    # s = tamanho do scatter no gráfico BASEADO em um NUMERO\n",
    "    # title = título do gráfico\n",
    "    # legend_visibility = visibilidade da legenda\n",
    "    # legend_title = título da legenda\n",
    "    # xlabel = título do eixo x\n",
    "    # ylabel = titulo do eixo y\n",
    "    # offset_txt_x = deslocamento do texto da função no eixo x\n",
    "    # offset_txt_y = deslocamento do texto da função no eixo y\n",
    "    # num_rows = número de linhas de subplots\n",
    "    # num_cols = número de colunas de subplots\n",
    "    # subplot_num = número do subplot atual\n",
    "    # axes = array de eixos para os subplots\n",
    "\n",
    "    sns.set_style('darkgrid')\n",
    "\n",
    "    if axes is None:\n",
    "        f, ax = plt.subplots(num_rows, num_cols, figsize=(12, 5))\n",
    "    else:\n",
    "        ax = axes[subplot_num - 1]\n",
    "\n",
    "    sns.scatterplot(x=data[x], y=data[y], data=data, size=sct_size, s=s, ax=ax)\n",
    "\n",
    "    rng = np.random.default_rng(1234)  # seed para valores aleatórios\n",
    "    lr = LinearRegression(fit_intercept=fit_intercept)\n",
    "    fitted_reg = lr.fit(data[[x]], data[[y]])\n",
    "\n",
    "    if not fit_intercept:\n",
    "        fitted_reg.intercept_ = [fitted_reg.intercept_]  # Prevenindo erros\n",
    "\n",
    "    r2_score = fitted_reg.score(data[[x]], data[[y]])  # R² Score\n",
    "    x_reg_line = rng.uniform(data[x].min(), data[x].max(), size=100)  # gerando valores entre os valores do scatterplot para criar a reta\n",
    "    y_reg_line = x_reg_line * fitted_reg.coef_ + fitted_reg.intercept_[0]  # função y=ax + b para representar a reta criada\n",
    "\n",
    "    if reg_from_start:\n",
    "\n",
    "        if (data[x].min() < 0) and (abs(data[x].min()) > data[y].max()):  # Para valores data[x] negativos\n",
    "\n",
    "            x_reg_line = rng.uniform(data[x].min() * 2, 0.0, size=10000)  # gerando valores entre os valores do scatterplot para criar a reta, partindo do 0\n",
    "\n",
    "        elif (data[y].min() < 0) and (abs(data[y].min()) > data[x].max()):  # Para valores data[y] negativos\n",
    "\n",
    "            x_reg_line = rng.uniform(data[y].min() * 2, 0.0, size=10000)  # gerando valores entre os valores do scatterplot para criar a reta, partindo do 0\n",
    "\n",
    "        elif (data[x].max() > data[y].max()):\n",
    "\n",
    "            x_reg_line = rng.uniform(0.0, data[x].max() * 2, size=10000)\n",
    "\n",
    "        else:\n",
    "\n",
    "            x_reg_line = rng.uniform(0.0, data[y].max() * 2, size=10000)\n",
    "\n",
    "        y_reg_line = x_reg_line * fitted_reg.coef_ + fitted_reg.intercept_[0]  # função y=ax + b para representar a reta criada\n",
    "\n",
    "    text_coord_x = data[x].max() - data[x].max() * offset_txt_x  # eixo x do texto\n",
    "\n",
    "    ax.text(text_coord_x, offset_txt_y, f'Y={round(fitted_reg.coef_[0][0], 4)}x + {round(fitted_reg.intercept_[0], 4)}',\n",
    "            fontsize=12, ha='center', va='center', color='blue')  # Texto da reta Azul\n",
    "    ax.text(text_coord_x, offset_txt_y - (offset_txt_y * 0.3), f'R²:{round(r2_score, 4)}', fontsize=12, ha='center',\n",
    "            va='center', color='blue')  # Texto r²\n",
    "\n",
    "    ax.set_ylim((0, (data[y].max() + (data[y].max() / 2))))  # tamanho limite do plot no eixo y\n",
    "    ax.set_xlim((0, data[x].max() + data[x].max() / 2))  # tamanho limite do plot no eixo x\n",
    "    ax.plot(x_reg_line, y_reg_line[0])  # reta de regressão\n",
    "\n",
    "    if ativar_grafico_yx:\n",
    "        y_x = rng.uniform(0, 1000, size=1000)  # gerando 1000 valores aleatórios\n",
    "        ax.plot(y_x, y_x, 'k--')  # reta y=x\n",
    "\n",
    "    if legend_title:\n",
    "        ax.legend(title=legend_title, loc='upper left').set_visible(legend_visibility)  # legenda no canto superior esquerdo\n",
    "\n",
    "    ax.set_title(title)  # Título do gráfico\n",
    "    ax.set_xlabel(xlabel)  # Título do eixo X\n",
    "    ax.set_ylabel(ylabel)  # Título do eixo y\n",
    "\n",
    "    return ax"
   ]
  },
  {
   "cell_type": "code",
   "execution_count": 337,
   "id": "d67fb2c0-f934-492f-a5b0-ec4858e61b6a",
   "metadata": {},
   "outputs": [],
   "source": [
    "def date_parser(date):\n",
    "    return pd.to_datetime(f\"{int(date[1:5])}-{int(date[5:])}\",format=\"%Y-%j\")\n",
    "\n",
    "google_npp = pd.read_csv('./googleEarth/GPP_NPP_GOOGLE.csv',parse_dates=['system:time_start'],index_col=['system:time_start'])\n",
    "google_gpp = pd.read_csv('./googleEarth/GPP_8_DIAS.csv',parse_dates=['system:time_start'],index_col=['system:time_start'])\n",
    "modis_NPP = pd.read_csv('./DadosNPPSatelite/filtered_scaled_Npp_500m.csv',header=None)\n",
    "modis_GPP = pd.read_csv('./DadosGPPSatelite/filtered_scaled_Gpp_500m.csv',na_values='F',header=None,parse_dates=[2],index_col=[2],date_parser=date_parser)"
   ]
  },
  {
   "cell_type": "code",
   "execution_count": 338,
   "id": "38d0bae6-c459-46f8-9967-3f519e0f4ca9",
   "metadata": {},
   "outputs": [],
   "source": [
    "google_data = google_npp.apply(lambda x:x.str.replace(',','.'),axis=1).loc[:,'Gpp':'Npp'].copy()\n",
    "tower_NPP = modis_NPP[[149]].copy()"
   ]
  },
  {
   "cell_type": "code",
   "execution_count": 339,
   "id": "a79c584a-fa64-407c-8fc2-242b7746bccf",
   "metadata": {},
   "outputs": [],
   "source": [
    "modis_GPP_torre = modis_GPP.loc['2021-01-01':'2021-12-27'][149] * 100 # Multiplicação para melhorar a visualização do gráfico\n",
    "google_gpp_torre = google_gpp.loc['2021-01-01':'2021-12-27'][['Gpp']]"
   ]
  },
  {
   "cell_type": "markdown",
   "id": "12c1a3fe-148c-42d7-80af-615203690036",
   "metadata": {},
   "source": [
    "# GPP Comparação"
   ]
  },
  {
   "cell_type": "code",
   "execution_count": 340,
   "id": "1e9253fd-4725-49d8-9127-8f1d85e37a68",
   "metadata": {},
   "outputs": [
    {
     "data": {
      "image/png": "[encoded data removed]",
      "text/plain": [
       "<Figure size 1200x500 with 1 Axes>"
      ]
     },
     "metadata": {},
     "output_type": "display_data"
    },
    {
     "data": {
      "text/plain": [
       "<Figure size 300x500 with 0 Axes>"
      ]
     },
     "metadata": {},
     "output_type": "display_data"
    }
   ],
   "source": [
    "gpp_dataframe = {\n",
    "    'Modis Tower GPP': modis_GPP_torre.values,\n",
    "    'Google Tower GPP': google_gpp_torre['Gpp'].values,\n",
    "}\n",
    "gpp_dataframe = pd.DataFrame(gpp_dataframe,index=google_gpp_torre.index)\n",
    "gpp_dataframe = gpp_dataframe.dropna()\n",
    "\n",
    "eixo_x = 'Google Tower GPP'\n",
    "eixo_y = 'Modis Tower GPP'\n",
    "data = gpp_dataframe\n",
    "xlabel = \"Google Tower GPP\"\n",
    "ylabel = \"Modis Tower GPP\"\n",
    "\n",
    "title = 'Correlação Google x Modis'\n",
    "\n",
    "reg_graph_subplot(eixo_x,eixo_y,sct_size=30,data=data,xlabel=xlabel,ylabel=ylabel,title=title,legend_visibility=False,reg_from_start=True,offset_txt_x=0.1,offset_txt_y=4)\n",
    "plt.figure(figsize=(3,5))\n",
    "plt.show()"
   ]
  },
  {
   "cell_type": "code",
   "execution_count": 350,
   "id": "4b07b529-1727-4782-8b66-7e74fc960ee3",
   "metadata": {},
   "outputs": [
    {
     "data": {
      "text/html": [
       "<div>\n",
       "<style scoped>\n",
       "    .dataframe tbody tr th:only-of-type {\n",
       "        vertical-align: middle;\n",
       "    }\n",
       "\n",
       "    .dataframe tbody tr th {\n",
       "        vertical-align: top;\n",
       "    }\n",
       "\n",
       "    .dataframe thead th {\n",
       "        text-align: right;\n",
       "    }\n",
       "</style>\n",
       "<table border=\"1\" class=\"dataframe\">\n",
       "  <thead>\n",
       "    <tr style=\"text-align: right;\">\n",
       "      <th></th>\n",
       "      <th>Modis Tower GPP</th>\n",
       "      <th>Google Tower GPP</th>\n",
       "    </tr>\n",
       "  </thead>\n",
       "  <tbody>\n",
       "    <tr>\n",
       "      <th>count</th>\n",
       "      <td>20.000000</td>\n",
       "      <td>20.000000</td>\n",
       "    </tr>\n",
       "    <tr>\n",
       "      <th>mean</th>\n",
       "      <td>0.058210</td>\n",
       "      <td>0.059775</td>\n",
       "    </tr>\n",
       "    <tr>\n",
       "      <th>std</th>\n",
       "      <td>0.019827</td>\n",
       "      <td>0.018469</td>\n",
       "    </tr>\n",
       "    <tr>\n",
       "      <th>min</th>\n",
       "      <td>0.019500</td>\n",
       "      <td>0.010500</td>\n",
       "    </tr>\n",
       "    <tr>\n",
       "      <th>25%</th>\n",
       "      <td>0.049650</td>\n",
       "      <td>0.058850</td>\n",
       "    </tr>\n",
       "    <tr>\n",
       "      <th>50%</th>\n",
       "      <td>0.064200</td>\n",
       "      <td>0.064200</td>\n",
       "    </tr>\n",
       "    <tr>\n",
       "      <th>75%</th>\n",
       "      <td>0.071200</td>\n",
       "      <td>0.070575</td>\n",
       "    </tr>\n",
       "    <tr>\n",
       "      <th>max</th>\n",
       "      <td>0.081200</td>\n",
       "      <td>0.078200</td>\n",
       "    </tr>\n",
       "  </tbody>\n",
       "</table>\n",
       "</div>"
      ],
      "text/plain": [
       "       Modis Tower GPP  Google Tower GPP\n",
       "count        20.000000         20.000000\n",
       "mean          0.058210          0.059775\n",
       "std           0.019827          0.018469\n",
       "min           0.019500          0.010500\n",
       "25%           0.049650          0.058850\n",
       "50%           0.064200          0.064200\n",
       "75%           0.071200          0.070575\n",
       "max           0.081200          0.078200"
      ]
     },
     "execution_count": 350,
     "metadata": {},
     "output_type": "execute_result"
    }
   ],
   "source": [
    "gpp_dataframe['Modis Tower GPP'] = gpp_dataframe['Modis Tower GPP'].apply(lambda x:x/100) # voltar pra escala original\n",
    "gpp_dataframe['Google Tower GPP'] = gpp_dataframe['Google Tower GPP'].apply(lambda x:x/10000) # Adaptar a mesma escala\n",
    "gpp_dataframe.describe()"
   ]
  },
  {
   "cell_type": "code",
   "execution_count": 351,
   "id": "406e01f2-00d2-4d64-89d3-468807f6117b",
   "metadata": {},
   "outputs": [
    {
     "data": {
      "text/plain": [
       "Modis Tower GPP     0.000393\n",
       "Google Tower GPP    0.000341\n",
       "dtype: float64"
      ]
     },
     "execution_count": 351,
     "metadata": {},
     "output_type": "execute_result"
    }
   ],
   "source": [
    "gpp_dataframe.var()"
   ]
  },
  {
   "cell_type": "code",
   "execution_count": 352,
   "id": "3efb0d15-efe6-499e-8ba0-e6b785e018e3",
   "metadata": {},
   "outputs": [
    {
     "data": {
      "text/plain": [
       "['Não é uma distribuição normal', 'Não é uma distribuição normal']"
      ]
     },
     "execution_count": 352,
     "metadata": {},
     "output_type": "execute_result"
    }
   ],
   "source": [
    "p_valores = [shapiro(gpp_dataframe['Modis Tower GPP']).pvalue,shapiro(gpp_dataframe['Google Tower GPP']).pvalue]\n",
    "p_valores = [\"É uma distribuição normal\" if p > alpha else \"Não é uma distribuição normal\" for p in p_valores]\n",
    "p_valores\n",
    "# Como resultado, o teste retornará a estatística W, que terá um valor de significância associada,\n",
    "#o valor-p. Para dizer que uma distribuição é normal, o valor p precisa ser maior do que 0,05."
   ]
  },
  {
   "cell_type": "code",
   "execution_count": 353,
   "id": "b1494fb4-f788-4d01-a08e-66784bd6e4bc",
   "metadata": {},
   "outputs": [
    {
     "name": "stdout",
     "output_type": "stream",
     "text": [
      "Estatística U de Mann-Whitney: 201.0\n",
      "Valor-p: 0.989201812151631\n",
      "Não podemos rejeitar a hipótese nula. Não há evidências de diferença significativa entre as séries.\n"
     ]
    }
   ],
   "source": [
    "Modis = gpp_dataframe['Modis Tower GPP'] \n",
    "Google = gpp_dataframe['Google Tower GPP']\n",
    "\n",
    "# Realize o teste de Mann-Whitney U\n",
    "statistic, p_value = mannwhitneyu(Modis, Google,nan_policy='omit')\n",
    "\n",
    "print(\"Estatística U de Mann-Whitney:\", statistic)\n",
    "print(\"Valor-p:\", p_value)\n",
    "\n",
    "# Interpretando o resultado\n",
    "alpha = 0.05  # Nível de significância\n",
    "if p_value <= alpha:\n",
    "    print(\"Rejeitamos a hipótese nula. Há evidências de diferença significativa entre as séries.\")\n",
    "else:\n",
    "    print(\"Não podemos rejeitar a hipótese nula. Não há evidências de diferença significativa entre as séries.\")\n",
    "\n",
    "    \n",
    "# The Mann-Whitney U test is a nonparametric test of the null hypothesis\n",
    "# that the distribution underlying sample x is the same as the distribution underlying sample y. \n",
    "# It is often used as a test of difference in location between distributions.    "
   ]
  },
  {
   "cell_type": "markdown",
   "id": "a99c748c-b1d7-43a6-9885-2bbef1b10950",
   "metadata": {},
   "source": [
    "# NPP Comparação"
   ]
  },
  {
   "cell_type": "code",
   "execution_count": 360,
   "id": "cc59795f-a0b9-4d8f-aa4b-31bf6525d46c",
   "metadata": {},
   "outputs": [
    {
     "data": {
      "text/html": [
       "<div>\n",
       "<style scoped>\n",
       "    .dataframe tbody tr th:only-of-type {\n",
       "        vertical-align: middle;\n",
       "    }\n",
       "\n",
       "    .dataframe tbody tr th {\n",
       "        vertical-align: top;\n",
       "    }\n",
       "\n",
       "    .dataframe thead th {\n",
       "        text-align: right;\n",
       "    }\n",
       "</style>\n",
       "<table border=\"1\" class=\"dataframe\">\n",
       "  <thead>\n",
       "    <tr style=\"text-align: right;\">\n",
       "      <th></th>\n",
       "      <th>Modis Tower NPP</th>\n",
       "      <th>Google Tower NPP</th>\n",
       "    </tr>\n",
       "  </thead>\n",
       "  <tbody>\n",
       "    <tr>\n",
       "      <th>Modis Tower NPP</th>\n",
       "      <td>1.0</td>\n",
       "      <td>1.0</td>\n",
       "    </tr>\n",
       "    <tr>\n",
       "      <th>Google Tower NPP</th>\n",
       "      <td>1.0</td>\n",
       "      <td>1.0</td>\n",
       "    </tr>\n",
       "  </tbody>\n",
       "</table>\n",
       "</div>"
      ],
      "text/plain": [
       "                  Modis Tower NPP  Google Tower NPP\n",
       "Modis Tower NPP               1.0               1.0\n",
       "Google Tower NPP              1.0               1.0"
      ]
     },
     "execution_count": 360,
     "metadata": {},
     "output_type": "execute_result"
    }
   ],
   "source": [
    "npp_dataframe = {\n",
    "    'Modis Tower NPP': tower_NPP[149].values,\n",
    "    'Google Tower NPP': google_data['Npp'].values,\n",
    "}\n",
    "npp_dataframe = pd.DataFrame(npp_dataframe,index=npp_google.index)\n",
    "npp_dataframe['Google Tower NPP'] = pd.to_numeric(npp_dataframe['Google Tower NPP']) / 10\n",
    "npp_dataframe.corr()"
   ]
  },
  {
   "cell_type": "code",
   "execution_count": 361,
   "id": "86852b6b-f5be-4e9b-afdf-20d7756dd042",
   "metadata": {},
   "outputs": [
    {
     "data": {
      "text/html": [
       "<div>\n",
       "<style scoped>\n",
       "    .dataframe tbody tr th:only-of-type {\n",
       "        vertical-align: middle;\n",
       "    }\n",
       "\n",
       "    .dataframe tbody tr th {\n",
       "        vertical-align: top;\n",
       "    }\n",
       "\n",
       "    .dataframe thead th {\n",
       "        text-align: right;\n",
       "    }\n",
       "</style>\n",
       "<table border=\"1\" class=\"dataframe\">\n",
       "  <thead>\n",
       "    <tr style=\"text-align: right;\">\n",
       "      <th></th>\n",
       "      <th>Modis Tower NPP</th>\n",
       "      <th>Google Tower NPP</th>\n",
       "    </tr>\n",
       "    <tr>\n",
       "      <th>system:time_start</th>\n",
       "      <th></th>\n",
       "      <th></th>\n",
       "    </tr>\n",
       "  </thead>\n",
       "  <tbody>\n",
       "    <tr>\n",
       "      <th>2001-01-01</th>\n",
       "      <td>1.1276</td>\n",
       "      <td>1.1276</td>\n",
       "    </tr>\n",
       "    <tr>\n",
       "      <th>2002-01-01</th>\n",
       "      <td>1.0673</td>\n",
       "      <td>1.0673</td>\n",
       "    </tr>\n",
       "    <tr>\n",
       "      <th>2003-01-01</th>\n",
       "      <td>1.2857</td>\n",
       "      <td>1.2857</td>\n",
       "    </tr>\n",
       "    <tr>\n",
       "      <th>2004-01-01</th>\n",
       "      <td>1.2011</td>\n",
       "      <td>1.2011</td>\n",
       "    </tr>\n",
       "    <tr>\n",
       "      <th>2005-01-01</th>\n",
       "      <td>1.2695</td>\n",
       "      <td>1.2695</td>\n",
       "    </tr>\n",
       "    <tr>\n",
       "      <th>2006-01-01</th>\n",
       "      <td>1.3229</td>\n",
       "      <td>1.3229</td>\n",
       "    </tr>\n",
       "    <tr>\n",
       "      <th>2007-01-01</th>\n",
       "      <td>1.3535</td>\n",
       "      <td>1.3535</td>\n",
       "    </tr>\n",
       "    <tr>\n",
       "      <th>2008-01-01</th>\n",
       "      <td>1.1047</td>\n",
       "      <td>1.1047</td>\n",
       "    </tr>\n",
       "    <tr>\n",
       "      <th>2009-01-01</th>\n",
       "      <td>1.2145</td>\n",
       "      <td>1.2145</td>\n",
       "    </tr>\n",
       "    <tr>\n",
       "      <th>2010-01-01</th>\n",
       "      <td>1.1974</td>\n",
       "      <td>1.1974</td>\n",
       "    </tr>\n",
       "    <tr>\n",
       "      <th>2011-01-01</th>\n",
       "      <td>1.2367</td>\n",
       "      <td>1.2367</td>\n",
       "    </tr>\n",
       "    <tr>\n",
       "      <th>2012-01-01</th>\n",
       "      <td>1.1038</td>\n",
       "      <td>1.1038</td>\n",
       "    </tr>\n",
       "    <tr>\n",
       "      <th>2013-01-01</th>\n",
       "      <td>1.2383</td>\n",
       "      <td>1.2383</td>\n",
       "    </tr>\n",
       "    <tr>\n",
       "      <th>2014-01-01</th>\n",
       "      <td>1.2235</td>\n",
       "      <td>1.2235</td>\n",
       "    </tr>\n",
       "    <tr>\n",
       "      <th>2015-01-01</th>\n",
       "      <td>1.1789</td>\n",
       "      <td>1.1789</td>\n",
       "    </tr>\n",
       "    <tr>\n",
       "      <th>2016-01-01</th>\n",
       "      <td>1.0174</td>\n",
       "      <td>1.0174</td>\n",
       "    </tr>\n",
       "    <tr>\n",
       "      <th>2017-01-01</th>\n",
       "      <td>1.1860</td>\n",
       "      <td>1.1860</td>\n",
       "    </tr>\n",
       "    <tr>\n",
       "      <th>2018-01-01</th>\n",
       "      <td>1.3451</td>\n",
       "      <td>1.3451</td>\n",
       "    </tr>\n",
       "    <tr>\n",
       "      <th>2019-01-01</th>\n",
       "      <td>1.2206</td>\n",
       "      <td>1.2206</td>\n",
       "    </tr>\n",
       "    <tr>\n",
       "      <th>2020-01-01</th>\n",
       "      <td>1.1675</td>\n",
       "      <td>1.1675</td>\n",
       "    </tr>\n",
       "    <tr>\n",
       "      <th>2021-01-01</th>\n",
       "      <td>0.8923</td>\n",
       "      <td>0.8923</td>\n",
       "    </tr>\n",
       "    <tr>\n",
       "      <th>2022-01-01</th>\n",
       "      <td>1.2705</td>\n",
       "      <td>1.2705</td>\n",
       "    </tr>\n",
       "  </tbody>\n",
       "</table>\n",
       "</div>"
      ],
      "text/plain": [
       "                   Modis Tower NPP  Google Tower NPP\n",
       "system:time_start                                   \n",
       "2001-01-01                  1.1276            1.1276\n",
       "2002-01-01                  1.0673            1.0673\n",
       "2003-01-01                  1.2857            1.2857\n",
       "2004-01-01                  1.2011            1.2011\n",
       "2005-01-01                  1.2695            1.2695\n",
       "2006-01-01                  1.3229            1.3229\n",
       "2007-01-01                  1.3535            1.3535\n",
       "2008-01-01                  1.1047            1.1047\n",
       "2009-01-01                  1.2145            1.2145\n",
       "2010-01-01                  1.1974            1.1974\n",
       "2011-01-01                  1.2367            1.2367\n",
       "2012-01-01                  1.1038            1.1038\n",
       "2013-01-01                  1.2383            1.2383\n",
       "2014-01-01                  1.2235            1.2235\n",
       "2015-01-01                  1.1789            1.1789\n",
       "2016-01-01                  1.0174            1.0174\n",
       "2017-01-01                  1.1860            1.1860\n",
       "2018-01-01                  1.3451            1.3451\n",
       "2019-01-01                  1.2206            1.2206\n",
       "2020-01-01                  1.1675            1.1675\n",
       "2021-01-01                  0.8923            0.8923\n",
       "2022-01-01                  1.2705            1.2705"
      ]
     },
     "execution_count": 361,
     "metadata": {},
     "output_type": "execute_result"
    }
   ],
   "source": [
    "npp_dataframe"
   ]
  },
  {
   "cell_type": "code",
   "execution_count": 362,
   "id": "f69ae9bd-f60a-4646-a428-9f7f49d927a5",
   "metadata": {},
   "outputs": [
    {
     "data": {
      "image/png": "[encoded data removed]",
      "text/plain": [
       "<Figure size 1200x500 with 1 Axes>"
      ]
     },
     "metadata": {},
     "output_type": "display_data"
    },
    {
     "data": {
      "text/plain": [
       "<Figure size 500x500 with 0 Axes>"
      ]
     },
     "metadata": {},
     "output_type": "display_data"
    }
   ],
   "source": [
    "eixo_x = 'Google Tower NPP'\n",
    "eixo_y = 'Modis Tower NPP'\n",
    "data = npp_dataframe\n",
    "xlabel = \"Google Tower NPP\"\n",
    "ylabel = \"Modis Tower NPP\"\n",
    "\n",
    "title = 'Correlação Google x Modis'\n",
    "\n",
    "reg_graph_subplot(eixo_x,eixo_y,sct_size=30,data=data,xlabel=xlabel,ylabel=ylabel,title=title,legend_visibility=False,reg_from_start=True,offset_txt_x=0.1,offset_txt_y=1)\n",
    "plt.figure(figsize=(5,5))\n",
    "plt.show()"
   ]
  }
 ],
 "metadata": {
  "kernelspec": {
   "display_name": "Python 3 (ipykernel)",
   "language": "python",
   "name": "python3"
  },
  "language_info": {
   "codemirror_mode": {
    "name": "ipython",
    "version": 3
   },
   "file_extension": ".py",
   "mimetype": "text/x-python",
   "name": "python",
   "nbconvert_exporter": "python",
   "pygments_lexer": "ipython3",
   "version": "3.9.12"
  }
 },
 "nbformat": 4,
 "nbformat_minor": 5
}
