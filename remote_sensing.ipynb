{
 "cells": [
  {
   "cell_type": "code",
   "execution_count": 1,
   "metadata": {},
   "outputs": [
    {
     "name": "stderr",
     "output_type": "stream",
     "text": [
      "/home/lpo_albert/miniconda3/envs/hansys/lib/python3.9/site-packages/tqdm/auto.py:22: TqdmWarning: IProgress not found. Please update jupyter and ipywidgets. See https://ipywidgets.readthedocs.io/en/stable/user_install.html\n",
      "  from .autonotebook import tqdm as notebook_tqdm\n",
      "/home/lpo_albert/miniconda3/envs/hansys/lib/python3.9/site-packages/numba/core/decorators.py:262: NumbaDeprecationWarning: numba.generated_jit is deprecated. Please see the documentation at: https://numba.readthedocs.io/en/stable/reference/deprecation.html#deprecation-of-generated-jit for more information and advice on a suitable replacement.\n",
      "  warnings.warn(msg, NumbaDeprecationWarning)\n",
      "/home/lpo_albert/miniconda3/envs/hansys/lib/python3.9/site-packages/visions/backends/shared/nan_handling.py:51: NumbaDeprecationWarning: The 'nopython' keyword argument was not supplied to the 'numba.jit' decorator. The implicit default value for this argument is currently False, but it will be changed to True in Numba 0.59.0. See https://numba.readthedocs.io/en/stable/reference/deprecation.html#deprecation-of-object-mode-fall-back-behaviour-when-using-jit for details.\n",
      "  def hasna(x: np.ndarray) -> bool:\n",
      "/tmp/ipykernel_6391/3522962542.py:4: DeprecationWarning: `import pandas_profiling` is going to be deprecated by April 1st. Please use `import ydata_profiling` instead.\n",
      "  from pandas_profiling import ProfileReport\n"
     ]
    }
   ],
   "source": [
    "import pandas as pd\n",
    "import numpy as np\n",
    "import re\n",
    "from pandas_profiling import ProfileReport\n",
    "%matplotlib inline"
   ]
  },
  {
   "attachments": {},
   "cell_type": "markdown",
   "metadata": {},
   "source": [
    "* Carregar os dados"
   ]
  },
  {
   "cell_type": "code",
   "execution_count": 2,
   "metadata": {},
   "outputs": [
    {
     "data": {
      "text/html": [
       "<div>\n",
       "<style scoped>\n",
       "    .dataframe tbody tr th:only-of-type {\n",
       "        vertical-align: middle;\n",
       "    }\n",
       "\n",
       "    .dataframe tbody tr th {\n",
       "        vertical-align: top;\n",
       "    }\n",
       "\n",
       "    .dataframe thead th {\n",
       "        text-align: right;\n",
       "    }\n",
       "</style>\n",
       "<table border=\"1\" class=\"dataframe\">\n",
       "  <thead>\n",
       "    <tr style=\"text-align: right;\">\n",
       "      <th></th>\n",
       "      <th>TIMESTAMP_START</th>\n",
       "      <th>TIMESTAMP_END</th>\n",
       "      <th>TA_F_MDS</th>\n",
       "      <th>TA_F_MDS_QC</th>\n",
       "      <th>TA_ERA</th>\n",
       "      <th>TA_F</th>\n",
       "      <th>TA_F_QC</th>\n",
       "      <th>SW_IN_POT</th>\n",
       "      <th>SW_IN_F_MDS</th>\n",
       "      <th>SW_IN_F_MDS_QC</th>\n",
       "      <th>...</th>\n",
       "      <th>GPP_DT_VUT_SE</th>\n",
       "      <th>GPP_DT_VUT_05</th>\n",
       "      <th>GPP_DT_VUT_16</th>\n",
       "      <th>GPP_DT_VUT_25</th>\n",
       "      <th>GPP_DT_VUT_50</th>\n",
       "      <th>GPP_DT_VUT_75</th>\n",
       "      <th>GPP_DT_VUT_84</th>\n",
       "      <th>GPP_DT_VUT_95</th>\n",
       "      <th>RECO_SR</th>\n",
       "      <th>RECO_SR_N</th>\n",
       "    </tr>\n",
       "  </thead>\n",
       "  <tbody>\n",
       "    <tr>\n",
       "      <th>0</th>\n",
       "      <td>201801010000</td>\n",
       "      <td>201801010030</td>\n",
       "      <td>24.196</td>\n",
       "      <td>1</td>\n",
       "      <td>24.712</td>\n",
       "      <td>24.196</td>\n",
       "      <td>1</td>\n",
       "      <td>0.0</td>\n",
       "      <td>0.000</td>\n",
       "      <td>0</td>\n",
       "      <td>...</td>\n",
       "      <td>0.000000</td>\n",
       "      <td>0.000000</td>\n",
       "      <td>0.000000</td>\n",
       "      <td>0.000000</td>\n",
       "      <td>0.000000</td>\n",
       "      <td>0.000000</td>\n",
       "      <td>0.000000</td>\n",
       "      <td>0.000000</td>\n",
       "      <td>-9999</td>\n",
       "      <td>-9999</td>\n",
       "    </tr>\n",
       "    <tr>\n",
       "      <th>1</th>\n",
       "      <td>201801010030</td>\n",
       "      <td>201801010100</td>\n",
       "      <td>24.195</td>\n",
       "      <td>1</td>\n",
       "      <td>24.285</td>\n",
       "      <td>24.195</td>\n",
       "      <td>1</td>\n",
       "      <td>0.0</td>\n",
       "      <td>0.000</td>\n",
       "      <td>0</td>\n",
       "      <td>...</td>\n",
       "      <td>0.000000</td>\n",
       "      <td>0.000000</td>\n",
       "      <td>0.000000</td>\n",
       "      <td>0.000000</td>\n",
       "      <td>0.000000</td>\n",
       "      <td>0.000000</td>\n",
       "      <td>0.000000</td>\n",
       "      <td>0.000000</td>\n",
       "      <td>-9999</td>\n",
       "      <td>-9999</td>\n",
       "    </tr>\n",
       "    <tr>\n",
       "      <th>2</th>\n",
       "      <td>201801010100</td>\n",
       "      <td>201801010130</td>\n",
       "      <td>23.180</td>\n",
       "      <td>0</td>\n",
       "      <td>23.858</td>\n",
       "      <td>23.180</td>\n",
       "      <td>0</td>\n",
       "      <td>0.0</td>\n",
       "      <td>0.082</td>\n",
       "      <td>0</td>\n",
       "      <td>...</td>\n",
       "      <td>0.000376</td>\n",
       "      <td>0.008991</td>\n",
       "      <td>0.012675</td>\n",
       "      <td>0.013591</td>\n",
       "      <td>0.014326</td>\n",
       "      <td>0.016353</td>\n",
       "      <td>0.017003</td>\n",
       "      <td>0.017386</td>\n",
       "      <td>-9999</td>\n",
       "      <td>-9999</td>\n",
       "    </tr>\n",
       "    <tr>\n",
       "      <th>3</th>\n",
       "      <td>201801010130</td>\n",
       "      <td>201801010200</td>\n",
       "      <td>22.739</td>\n",
       "      <td>0</td>\n",
       "      <td>23.712</td>\n",
       "      <td>22.739</td>\n",
       "      <td>0</td>\n",
       "      <td>0.0</td>\n",
       "      <td>0.082</td>\n",
       "      <td>0</td>\n",
       "      <td>...</td>\n",
       "      <td>0.000376</td>\n",
       "      <td>0.008991</td>\n",
       "      <td>0.012675</td>\n",
       "      <td>0.013591</td>\n",
       "      <td>0.014326</td>\n",
       "      <td>0.016353</td>\n",
       "      <td>0.017003</td>\n",
       "      <td>0.017386</td>\n",
       "      <td>-9999</td>\n",
       "      <td>-9999</td>\n",
       "    </tr>\n",
       "    <tr>\n",
       "      <th>4</th>\n",
       "      <td>201801010200</td>\n",
       "      <td>201801010230</td>\n",
       "      <td>22.537</td>\n",
       "      <td>0</td>\n",
       "      <td>23.567</td>\n",
       "      <td>22.537</td>\n",
       "      <td>0</td>\n",
       "      <td>0.0</td>\n",
       "      <td>0.085</td>\n",
       "      <td>0</td>\n",
       "      <td>...</td>\n",
       "      <td>0.000389</td>\n",
       "      <td>0.009320</td>\n",
       "      <td>0.013139</td>\n",
       "      <td>0.014088</td>\n",
       "      <td>0.014850</td>\n",
       "      <td>0.016951</td>\n",
       "      <td>0.017625</td>\n",
       "      <td>0.018022</td>\n",
       "      <td>-9999</td>\n",
       "      <td>-9999</td>\n",
       "    </tr>\n",
       "    <tr>\n",
       "      <th>...</th>\n",
       "      <td>...</td>\n",
       "      <td>...</td>\n",
       "      <td>...</td>\n",
       "      <td>...</td>\n",
       "      <td>...</td>\n",
       "      <td>...</td>\n",
       "      <td>...</td>\n",
       "      <td>...</td>\n",
       "      <td>...</td>\n",
       "      <td>...</td>\n",
       "      <td>...</td>\n",
       "      <td>...</td>\n",
       "      <td>...</td>\n",
       "      <td>...</td>\n",
       "      <td>...</td>\n",
       "      <td>...</td>\n",
       "      <td>...</td>\n",
       "      <td>...</td>\n",
       "      <td>...</td>\n",
       "      <td>...</td>\n",
       "      <td>...</td>\n",
       "    </tr>\n",
       "    <tr>\n",
       "      <th>35035</th>\n",
       "      <td>201912312130</td>\n",
       "      <td>201912312200</td>\n",
       "      <td>26.272</td>\n",
       "      <td>0</td>\n",
       "      <td>26.341</td>\n",
       "      <td>26.272</td>\n",
       "      <td>0</td>\n",
       "      <td>0.0</td>\n",
       "      <td>0.059</td>\n",
       "      <td>0</td>\n",
       "      <td>...</td>\n",
       "      <td>0.000229</td>\n",
       "      <td>0.005254</td>\n",
       "      <td>0.005360</td>\n",
       "      <td>0.005878</td>\n",
       "      <td>0.006587</td>\n",
       "      <td>0.008211</td>\n",
       "      <td>0.008285</td>\n",
       "      <td>0.009994</td>\n",
       "      <td>-9999</td>\n",
       "      <td>-9999</td>\n",
       "    </tr>\n",
       "    <tr>\n",
       "      <th>35036</th>\n",
       "      <td>201912312200</td>\n",
       "      <td>201912312230</td>\n",
       "      <td>25.482</td>\n",
       "      <td>0</td>\n",
       "      <td>26.369</td>\n",
       "      <td>25.482</td>\n",
       "      <td>0</td>\n",
       "      <td>0.0</td>\n",
       "      <td>0.057</td>\n",
       "      <td>0</td>\n",
       "      <td>...</td>\n",
       "      <td>0.000222</td>\n",
       "      <td>0.005076</td>\n",
       "      <td>0.005178</td>\n",
       "      <td>0.005678</td>\n",
       "      <td>0.006364</td>\n",
       "      <td>0.007933</td>\n",
       "      <td>0.008004</td>\n",
       "      <td>0.009656</td>\n",
       "      <td>-9999</td>\n",
       "      <td>-9999</td>\n",
       "    </tr>\n",
       "    <tr>\n",
       "      <th>35037</th>\n",
       "      <td>201912312230</td>\n",
       "      <td>201912312300</td>\n",
       "      <td>25.168</td>\n",
       "      <td>0</td>\n",
       "      <td>26.093</td>\n",
       "      <td>25.168</td>\n",
       "      <td>0</td>\n",
       "      <td>0.0</td>\n",
       "      <td>0.055</td>\n",
       "      <td>0</td>\n",
       "      <td>...</td>\n",
       "      <td>0.000214</td>\n",
       "      <td>0.004898</td>\n",
       "      <td>0.004996</td>\n",
       "      <td>0.005479</td>\n",
       "      <td>0.006140</td>\n",
       "      <td>0.007655</td>\n",
       "      <td>0.007723</td>\n",
       "      <td>0.009317</td>\n",
       "      <td>-9999</td>\n",
       "      <td>-9999</td>\n",
       "    </tr>\n",
       "    <tr>\n",
       "      <th>35038</th>\n",
       "      <td>201912312300</td>\n",
       "      <td>201912312330</td>\n",
       "      <td>24.900</td>\n",
       "      <td>0</td>\n",
       "      <td>25.818</td>\n",
       "      <td>24.900</td>\n",
       "      <td>0</td>\n",
       "      <td>0.0</td>\n",
       "      <td>0.062</td>\n",
       "      <td>0</td>\n",
       "      <td>...</td>\n",
       "      <td>0.000241</td>\n",
       "      <td>0.005521</td>\n",
       "      <td>0.005632</td>\n",
       "      <td>0.006176</td>\n",
       "      <td>0.006922</td>\n",
       "      <td>0.008629</td>\n",
       "      <td>0.008706</td>\n",
       "      <td>0.010502</td>\n",
       "      <td>-9999</td>\n",
       "      <td>-9999</td>\n",
       "    </tr>\n",
       "    <tr>\n",
       "      <th>35039</th>\n",
       "      <td>201912312330</td>\n",
       "      <td>202001010000</td>\n",
       "      <td>24.660</td>\n",
       "      <td>0</td>\n",
       "      <td>25.593</td>\n",
       "      <td>24.660</td>\n",
       "      <td>0</td>\n",
       "      <td>0.0</td>\n",
       "      <td>0.084</td>\n",
       "      <td>0</td>\n",
       "      <td>...</td>\n",
       "      <td>0.000327</td>\n",
       "      <td>0.007480</td>\n",
       "      <td>0.007630</td>\n",
       "      <td>0.008368</td>\n",
       "      <td>0.009378</td>\n",
       "      <td>0.011690</td>\n",
       "      <td>0.011795</td>\n",
       "      <td>0.014228</td>\n",
       "      <td>-9999</td>\n",
       "      <td>-9999</td>\n",
       "    </tr>\n",
       "  </tbody>\n",
       "</table>\n",
       "<p>35040 rows × 147 columns</p>\n",
       "</div>"
      ],
      "text/plain": [
       "       TIMESTAMP_START  TIMESTAMP_END  TA_F_MDS  TA_F_MDS_QC  TA_ERA    TA_F  \\\n",
       "0         201801010000   201801010030    24.196            1  24.712  24.196   \n",
       "1         201801010030   201801010100    24.195            1  24.285  24.195   \n",
       "2         201801010100   201801010130    23.180            0  23.858  23.180   \n",
       "3         201801010130   201801010200    22.739            0  23.712  22.739   \n",
       "4         201801010200   201801010230    22.537            0  23.567  22.537   \n",
       "...                ...            ...       ...          ...     ...     ...   \n",
       "35035     201912312130   201912312200    26.272            0  26.341  26.272   \n",
       "35036     201912312200   201912312230    25.482            0  26.369  25.482   \n",
       "35037     201912312230   201912312300    25.168            0  26.093  25.168   \n",
       "35038     201912312300   201912312330    24.900            0  25.818  24.900   \n",
       "35039     201912312330   202001010000    24.660            0  25.593  24.660   \n",
       "\n",
       "       TA_F_QC  SW_IN_POT  SW_IN_F_MDS  SW_IN_F_MDS_QC  ...  GPP_DT_VUT_SE  \\\n",
       "0            1        0.0        0.000               0  ...       0.000000   \n",
       "1            1        0.0        0.000               0  ...       0.000000   \n",
       "2            0        0.0        0.082               0  ...       0.000376   \n",
       "3            0        0.0        0.082               0  ...       0.000376   \n",
       "4            0        0.0        0.085               0  ...       0.000389   \n",
       "...        ...        ...          ...             ...  ...            ...   \n",
       "35035        0        0.0        0.059               0  ...       0.000229   \n",
       "35036        0        0.0        0.057               0  ...       0.000222   \n",
       "35037        0        0.0        0.055               0  ...       0.000214   \n",
       "35038        0        0.0        0.062               0  ...       0.000241   \n",
       "35039        0        0.0        0.084               0  ...       0.000327   \n",
       "\n",
       "       GPP_DT_VUT_05  GPP_DT_VUT_16  GPP_DT_VUT_25  GPP_DT_VUT_50  \\\n",
       "0           0.000000       0.000000       0.000000       0.000000   \n",
       "1           0.000000       0.000000       0.000000       0.000000   \n",
       "2           0.008991       0.012675       0.013591       0.014326   \n",
       "3           0.008991       0.012675       0.013591       0.014326   \n",
       "4           0.009320       0.013139       0.014088       0.014850   \n",
       "...              ...            ...            ...            ...   \n",
       "35035       0.005254       0.005360       0.005878       0.006587   \n",
       "35036       0.005076       0.005178       0.005678       0.006364   \n",
       "35037       0.004898       0.004996       0.005479       0.006140   \n",
       "35038       0.005521       0.005632       0.006176       0.006922   \n",
       "35039       0.007480       0.007630       0.008368       0.009378   \n",
       "\n",
       "       GPP_DT_VUT_75  GPP_DT_VUT_84  GPP_DT_VUT_95  RECO_SR  RECO_SR_N  \n",
       "0           0.000000       0.000000       0.000000    -9999      -9999  \n",
       "1           0.000000       0.000000       0.000000    -9999      -9999  \n",
       "2           0.016353       0.017003       0.017386    -9999      -9999  \n",
       "3           0.016353       0.017003       0.017386    -9999      -9999  \n",
       "4           0.016951       0.017625       0.018022    -9999      -9999  \n",
       "...              ...            ...            ...      ...        ...  \n",
       "35035       0.008211       0.008285       0.009994    -9999      -9999  \n",
       "35036       0.007933       0.008004       0.009656    -9999      -9999  \n",
       "35037       0.007655       0.007723       0.009317    -9999      -9999  \n",
       "35038       0.008629       0.008706       0.010502    -9999      -9999  \n",
       "35039       0.011690       0.011795       0.014228    -9999      -9999  \n",
       "\n",
       "[35040 rows x 147 columns]"
      ]
     },
     "metadata": {},
     "output_type": "display_data"
    }
   ],
   "source": [
    "df_pe_qfr = pd.read_csv('AMF_PE-QFR_FLUXNET_FULLSET_2018-2019_3-5/AMF_PE-QFR_FLUXNET_FULLSET_HH_2018-2019_3-5.csv', sep=',')\n",
    "display(df_pe_qfr)"
   ]
  },
  {
   "attachments": {},
   "cell_type": "markdown",
   "metadata": {},
   "source": [
    "* O Ameriflux atribui o valor -9999 para valores nulos\n",
    "* Portanto, é necessário converter o valor -9999 para nulo novamente para podermos realizar a análise"
   ]
  },
  {
   "cell_type": "code",
   "execution_count": 3,
   "metadata": {},
   "outputs": [],
   "source": [
    "df_pe_qfr.replace(-9999, pd.NA, inplace=True)"
   ]
  },
  {
   "attachments": {},
   "cell_type": "markdown",
   "metadata": {},
   "source": [
    "* Analisa os dados utlizando o pandas profiling"
   ]
  },
  {
   "cell_type": "code",
   "execution_count": 4,
   "metadata": {},
   "outputs": [],
   "source": [
    "# Analisa os dados utlizando o pandas profiling\n",
    "report = ProfileReport(df_pe_qfr,  minimal=True, title='Torre Amazônia Peruana')"
   ]
  },
  {
   "cell_type": "code",
   "execution_count": 5,
   "metadata": {},
   "outputs": [
    {
     "name": "stderr",
     "output_type": "stream",
     "text": [
      "Summarize dataset: 100%|██████████| 153/153 [00:03<00:00, 46.15it/s, Completed]                                      \n",
      "Generate report structure: 100%|██████████| 1/1 [00:46<00:00, 46.27s/it]\n",
      "Render HTML: 100%|██████████| 1/1 [00:02<00:00,  2.87s/it]\n",
      "Export report to file: 100%|██████████| 1/1 [00:00<00:00, 90.19it/s]\n"
     ]
    }
   ],
   "source": [
    "# Salva o arquivo html com as análises realizadas pelo pandas profiling\n",
    "report.to_file(\"EDA/torre_amazonia_peruana.html\")"
   ]
  },
  {
   "cell_type": "code",
   "execution_count": 6,
   "metadata": {},
   "outputs": [
    {
     "name": "stdout",
     "output_type": "stream",
     "text": [
      "Colunas com 100% de valores nulos:\n",
      "LW_IN_F_MDS\n",
      "LW_IN_F_MDS_QC\n",
      "P\n",
      "G_F_MDS\n",
      "G_F_MDS_QC\n",
      "LE_CORR\n",
      "LE_CORR_25\n",
      "LE_CORR_75\n",
      "LE_CORR_JOINTUNC\n",
      "H_CORR\n",
      "H_CORR_25\n",
      "H_CORR_75\n",
      "H_CORR_JOINTUNC\n",
      "EBC_CF_N\n",
      "EBC_CF_METHOD\n",
      "RECO_NT_VUT_USTAR50\n",
      "GPP_NT_VUT_USTAR50\n",
      "RECO_SR\n",
      "RECO_SR_N\n"
     ]
    }
   ],
   "source": [
    "# Identifica colunas com 100% de valores nulos\n",
    "colunas_nulas = df_pe_qfr.columns[df_pe_qfr.isnull().all()]\n",
    "\n",
    "# Exibe o nome das colunas com 100% de valores nulos\n",
    "print(\"Colunas com 100% de valores nulos:\")\n",
    "for coluna in colunas_nulas:\n",
    "    print(coluna)\n",
    "\n",
    "# Remove as colunas com 100% de valores nulos do DataFrame.\n",
    "df_pe_qfr = df_pe_qfr.drop(columns=colunas_nulas)"
   ]
  },
  {
   "cell_type": "code",
   "execution_count": 7,
   "metadata": {},
   "outputs": [
    {
     "data": {
      "text/html": [
       "<div>\n",
       "<style scoped>\n",
       "    .dataframe tbody tr th:only-of-type {\n",
       "        vertical-align: middle;\n",
       "    }\n",
       "\n",
       "    .dataframe tbody tr th {\n",
       "        vertical-align: top;\n",
       "    }\n",
       "\n",
       "    .dataframe thead th {\n",
       "        text-align: right;\n",
       "    }\n",
       "</style>\n",
       "<table border=\"1\" class=\"dataframe\">\n",
       "  <thead>\n",
       "    <tr style=\"text-align: right;\">\n",
       "      <th></th>\n",
       "      <th>TIMESTAMP_START</th>\n",
       "      <th>TIMESTAMP_END</th>\n",
       "      <th>TA_F_MDS</th>\n",
       "      <th>TA_F_MDS_QC</th>\n",
       "      <th>TA_ERA</th>\n",
       "      <th>TA_F</th>\n",
       "      <th>TA_F_QC</th>\n",
       "      <th>SW_IN_POT</th>\n",
       "      <th>SW_IN_F_MDS</th>\n",
       "      <th>SW_IN_F_MDS_QC</th>\n",
       "      <th>...</th>\n",
       "      <th>GPP_DT_VUT_USTAR50</th>\n",
       "      <th>GPP_DT_VUT_MEAN</th>\n",
       "      <th>GPP_DT_VUT_SE</th>\n",
       "      <th>GPP_DT_VUT_05</th>\n",
       "      <th>GPP_DT_VUT_16</th>\n",
       "      <th>GPP_DT_VUT_25</th>\n",
       "      <th>GPP_DT_VUT_50</th>\n",
       "      <th>GPP_DT_VUT_75</th>\n",
       "      <th>GPP_DT_VUT_84</th>\n",
       "      <th>GPP_DT_VUT_95</th>\n",
       "    </tr>\n",
       "  </thead>\n",
       "  <tbody>\n",
       "    <tr>\n",
       "      <th>0</th>\n",
       "      <td>201801010000</td>\n",
       "      <td>201801010030</td>\n",
       "      <td>24.196</td>\n",
       "      <td>1</td>\n",
       "      <td>24.712</td>\n",
       "      <td>24.196</td>\n",
       "      <td>1</td>\n",
       "      <td>0.0</td>\n",
       "      <td>0.000</td>\n",
       "      <td>0</td>\n",
       "      <td>...</td>\n",
       "      <td>0.000000</td>\n",
       "      <td>0.000000</td>\n",
       "      <td>0.000000</td>\n",
       "      <td>0.000000</td>\n",
       "      <td>0.000000</td>\n",
       "      <td>0.000000</td>\n",
       "      <td>0.000000</td>\n",
       "      <td>0.000000</td>\n",
       "      <td>0.000000</td>\n",
       "      <td>0.000000</td>\n",
       "    </tr>\n",
       "    <tr>\n",
       "      <th>1</th>\n",
       "      <td>201801010030</td>\n",
       "      <td>201801010100</td>\n",
       "      <td>24.195</td>\n",
       "      <td>1</td>\n",
       "      <td>24.285</td>\n",
       "      <td>24.195</td>\n",
       "      <td>1</td>\n",
       "      <td>0.0</td>\n",
       "      <td>0.000</td>\n",
       "      <td>0</td>\n",
       "      <td>...</td>\n",
       "      <td>0.000000</td>\n",
       "      <td>0.000000</td>\n",
       "      <td>0.000000</td>\n",
       "      <td>0.000000</td>\n",
       "      <td>0.000000</td>\n",
       "      <td>0.000000</td>\n",
       "      <td>0.000000</td>\n",
       "      <td>0.000000</td>\n",
       "      <td>0.000000</td>\n",
       "      <td>0.000000</td>\n",
       "    </tr>\n",
       "    <tr>\n",
       "      <th>2</th>\n",
       "      <td>201801010100</td>\n",
       "      <td>201801010130</td>\n",
       "      <td>23.180</td>\n",
       "      <td>0</td>\n",
       "      <td>23.858</td>\n",
       "      <td>23.180</td>\n",
       "      <td>0</td>\n",
       "      <td>0.0</td>\n",
       "      <td>0.082</td>\n",
       "      <td>0</td>\n",
       "      <td>...</td>\n",
       "      <td>0.016353</td>\n",
       "      <td>0.014735</td>\n",
       "      <td>0.000376</td>\n",
       "      <td>0.008991</td>\n",
       "      <td>0.012675</td>\n",
       "      <td>0.013591</td>\n",
       "      <td>0.014326</td>\n",
       "      <td>0.016353</td>\n",
       "      <td>0.017003</td>\n",
       "      <td>0.017386</td>\n",
       "    </tr>\n",
       "    <tr>\n",
       "      <th>3</th>\n",
       "      <td>201801010130</td>\n",
       "      <td>201801010200</td>\n",
       "      <td>22.739</td>\n",
       "      <td>0</td>\n",
       "      <td>23.712</td>\n",
       "      <td>22.739</td>\n",
       "      <td>0</td>\n",
       "      <td>0.0</td>\n",
       "      <td>0.082</td>\n",
       "      <td>0</td>\n",
       "      <td>...</td>\n",
       "      <td>0.016353</td>\n",
       "      <td>0.014735</td>\n",
       "      <td>0.000376</td>\n",
       "      <td>0.008991</td>\n",
       "      <td>0.012675</td>\n",
       "      <td>0.013591</td>\n",
       "      <td>0.014326</td>\n",
       "      <td>0.016353</td>\n",
       "      <td>0.017003</td>\n",
       "      <td>0.017386</td>\n",
       "    </tr>\n",
       "    <tr>\n",
       "      <th>4</th>\n",
       "      <td>201801010200</td>\n",
       "      <td>201801010230</td>\n",
       "      <td>22.537</td>\n",
       "      <td>0</td>\n",
       "      <td>23.567</td>\n",
       "      <td>22.537</td>\n",
       "      <td>0</td>\n",
       "      <td>0.0</td>\n",
       "      <td>0.085</td>\n",
       "      <td>0</td>\n",
       "      <td>...</td>\n",
       "      <td>0.016951</td>\n",
       "      <td>0.015274</td>\n",
       "      <td>0.000389</td>\n",
       "      <td>0.009320</td>\n",
       "      <td>0.013139</td>\n",
       "      <td>0.014088</td>\n",
       "      <td>0.014850</td>\n",
       "      <td>0.016951</td>\n",
       "      <td>0.017625</td>\n",
       "      <td>0.018022</td>\n",
       "    </tr>\n",
       "  </tbody>\n",
       "</table>\n",
       "<p>5 rows × 128 columns</p>\n",
       "</div>"
      ],
      "text/plain": [
       "   TIMESTAMP_START  TIMESTAMP_END  TA_F_MDS  TA_F_MDS_QC  TA_ERA    TA_F  \\\n",
       "0     201801010000   201801010030    24.196            1  24.712  24.196   \n",
       "1     201801010030   201801010100    24.195            1  24.285  24.195   \n",
       "2     201801010100   201801010130    23.180            0  23.858  23.180   \n",
       "3     201801010130   201801010200    22.739            0  23.712  22.739   \n",
       "4     201801010200   201801010230    22.537            0  23.567  22.537   \n",
       "\n",
       "   TA_F_QC  SW_IN_POT  SW_IN_F_MDS  SW_IN_F_MDS_QC  ...  GPP_DT_VUT_USTAR50  \\\n",
       "0        1        0.0        0.000               0  ...            0.000000   \n",
       "1        1        0.0        0.000               0  ...            0.000000   \n",
       "2        0        0.0        0.082               0  ...            0.016353   \n",
       "3        0        0.0        0.082               0  ...            0.016353   \n",
       "4        0        0.0        0.085               0  ...            0.016951   \n",
       "\n",
       "   GPP_DT_VUT_MEAN  GPP_DT_VUT_SE  GPP_DT_VUT_05  GPP_DT_VUT_16  \\\n",
       "0         0.000000       0.000000       0.000000       0.000000   \n",
       "1         0.000000       0.000000       0.000000       0.000000   \n",
       "2         0.014735       0.000376       0.008991       0.012675   \n",
       "3         0.014735       0.000376       0.008991       0.012675   \n",
       "4         0.015274       0.000389       0.009320       0.013139   \n",
       "\n",
       "   GPP_DT_VUT_25  GPP_DT_VUT_50  GPP_DT_VUT_75  GPP_DT_VUT_84  GPP_DT_VUT_95  \n",
       "0       0.000000       0.000000       0.000000       0.000000       0.000000  \n",
       "1       0.000000       0.000000       0.000000       0.000000       0.000000  \n",
       "2       0.013591       0.014326       0.016353       0.017003       0.017386  \n",
       "3       0.013591       0.014326       0.016353       0.017003       0.017386  \n",
       "4       0.014088       0.014850       0.016951       0.017625       0.018022  \n",
       "\n",
       "[5 rows x 128 columns]"
      ]
     },
     "metadata": {},
     "output_type": "display_data"
    }
   ],
   "source": [
    "display(df_pe_qfr.head())"
   ]
  },
  {
   "attachments": {},
   "cell_type": "markdown",
   "metadata": {},
   "source": [
    "* As variáveis com _QC no nome representam a qualidade do preenchimento realizado nas lacunas existentes no código. Essa variáveis com _QC são do tipo inteiro e o intervalo delas é de 0-3 (0, 1, 2, 3) sendo que 0 representa o preenchimento com qualidade melhor e 3 representa o preenchimento com qualidade pior.\n",
    "\n",
    "* Vamos retirar essas variáveis da análise"
   ]
  },
  {
   "cell_type": "code",
   "execution_count": 8,
   "metadata": {},
   "outputs": [],
   "source": [
    "# Filtra as colunas que contêm \"_QC\" no nome\n",
    "colunas_a_remover = [coluna for coluna in df_pe_qfr.columns if '_QC' in coluna]\n",
    "\n",
    "# Remove as colunas que contêm \"_QC\" no nome do DataFrame\n",
    "df_pe_qfr = df_pe_qfr.drop(columns=colunas_a_remover)"
   ]
  },
  {
   "cell_type": "code",
   "execution_count": 9,
   "metadata": {},
   "outputs": [
    {
     "data": {
      "text/html": [
       "<div>\n",
       "<style scoped>\n",
       "    .dataframe tbody tr th:only-of-type {\n",
       "        vertical-align: middle;\n",
       "    }\n",
       "\n",
       "    .dataframe tbody tr th {\n",
       "        vertical-align: top;\n",
       "    }\n",
       "\n",
       "    .dataframe thead th {\n",
       "        text-align: right;\n",
       "    }\n",
       "</style>\n",
       "<table border=\"1\" class=\"dataframe\">\n",
       "  <thead>\n",
       "    <tr style=\"text-align: right;\">\n",
       "      <th></th>\n",
       "      <th>TIMESTAMP_START</th>\n",
       "      <th>TIMESTAMP_END</th>\n",
       "      <th>TA_F_MDS</th>\n",
       "      <th>TA_ERA</th>\n",
       "      <th>TA_F</th>\n",
       "      <th>SW_IN_POT</th>\n",
       "      <th>SW_IN_F_MDS</th>\n",
       "      <th>SW_IN_ERA</th>\n",
       "      <th>SW_IN_F</th>\n",
       "      <th>LW_IN_ERA</th>\n",
       "      <th>...</th>\n",
       "      <th>GPP_DT_VUT_USTAR50</th>\n",
       "      <th>GPP_DT_VUT_MEAN</th>\n",
       "      <th>GPP_DT_VUT_SE</th>\n",
       "      <th>GPP_DT_VUT_05</th>\n",
       "      <th>GPP_DT_VUT_16</th>\n",
       "      <th>GPP_DT_VUT_25</th>\n",
       "      <th>GPP_DT_VUT_50</th>\n",
       "      <th>GPP_DT_VUT_75</th>\n",
       "      <th>GPP_DT_VUT_84</th>\n",
       "      <th>GPP_DT_VUT_95</th>\n",
       "    </tr>\n",
       "  </thead>\n",
       "  <tbody>\n",
       "    <tr>\n",
       "      <th>0</th>\n",
       "      <td>201801010000</td>\n",
       "      <td>201801010030</td>\n",
       "      <td>24.196</td>\n",
       "      <td>24.712</td>\n",
       "      <td>24.196</td>\n",
       "      <td>0.0</td>\n",
       "      <td>0.000</td>\n",
       "      <td>0.0</td>\n",
       "      <td>0.000</td>\n",
       "      <td>411.887</td>\n",
       "      <td>...</td>\n",
       "      <td>0.000000</td>\n",
       "      <td>0.000000</td>\n",
       "      <td>0.000000</td>\n",
       "      <td>0.000000</td>\n",
       "      <td>0.000000</td>\n",
       "      <td>0.000000</td>\n",
       "      <td>0.000000</td>\n",
       "      <td>0.000000</td>\n",
       "      <td>0.000000</td>\n",
       "      <td>0.000000</td>\n",
       "    </tr>\n",
       "    <tr>\n",
       "      <th>1</th>\n",
       "      <td>201801010030</td>\n",
       "      <td>201801010100</td>\n",
       "      <td>24.195</td>\n",
       "      <td>24.285</td>\n",
       "      <td>24.195</td>\n",
       "      <td>0.0</td>\n",
       "      <td>0.000</td>\n",
       "      <td>0.0</td>\n",
       "      <td>0.000</td>\n",
       "      <td>411.887</td>\n",
       "      <td>...</td>\n",
       "      <td>0.000000</td>\n",
       "      <td>0.000000</td>\n",
       "      <td>0.000000</td>\n",
       "      <td>0.000000</td>\n",
       "      <td>0.000000</td>\n",
       "      <td>0.000000</td>\n",
       "      <td>0.000000</td>\n",
       "      <td>0.000000</td>\n",
       "      <td>0.000000</td>\n",
       "      <td>0.000000</td>\n",
       "    </tr>\n",
       "    <tr>\n",
       "      <th>2</th>\n",
       "      <td>201801010100</td>\n",
       "      <td>201801010130</td>\n",
       "      <td>23.180</td>\n",
       "      <td>23.858</td>\n",
       "      <td>23.180</td>\n",
       "      <td>0.0</td>\n",
       "      <td>0.082</td>\n",
       "      <td>0.0</td>\n",
       "      <td>0.082</td>\n",
       "      <td>415.333</td>\n",
       "      <td>...</td>\n",
       "      <td>0.016353</td>\n",
       "      <td>0.014735</td>\n",
       "      <td>0.000376</td>\n",
       "      <td>0.008991</td>\n",
       "      <td>0.012675</td>\n",
       "      <td>0.013591</td>\n",
       "      <td>0.014326</td>\n",
       "      <td>0.016353</td>\n",
       "      <td>0.017003</td>\n",
       "      <td>0.017386</td>\n",
       "    </tr>\n",
       "    <tr>\n",
       "      <th>3</th>\n",
       "      <td>201801010130</td>\n",
       "      <td>201801010200</td>\n",
       "      <td>22.739</td>\n",
       "      <td>23.712</td>\n",
       "      <td>22.739</td>\n",
       "      <td>0.0</td>\n",
       "      <td>0.082</td>\n",
       "      <td>0.0</td>\n",
       "      <td>0.082</td>\n",
       "      <td>415.333</td>\n",
       "      <td>...</td>\n",
       "      <td>0.016353</td>\n",
       "      <td>0.014735</td>\n",
       "      <td>0.000376</td>\n",
       "      <td>0.008991</td>\n",
       "      <td>0.012675</td>\n",
       "      <td>0.013591</td>\n",
       "      <td>0.014326</td>\n",
       "      <td>0.016353</td>\n",
       "      <td>0.017003</td>\n",
       "      <td>0.017386</td>\n",
       "    </tr>\n",
       "    <tr>\n",
       "      <th>4</th>\n",
       "      <td>201801010200</td>\n",
       "      <td>201801010230</td>\n",
       "      <td>22.537</td>\n",
       "      <td>23.567</td>\n",
       "      <td>22.537</td>\n",
       "      <td>0.0</td>\n",
       "      <td>0.085</td>\n",
       "      <td>0.0</td>\n",
       "      <td>0.085</td>\n",
       "      <td>411.126</td>\n",
       "      <td>...</td>\n",
       "      <td>0.016951</td>\n",
       "      <td>0.015274</td>\n",
       "      <td>0.000389</td>\n",
       "      <td>0.009320</td>\n",
       "      <td>0.013139</td>\n",
       "      <td>0.014088</td>\n",
       "      <td>0.014850</td>\n",
       "      <td>0.016951</td>\n",
       "      <td>0.017625</td>\n",
       "      <td>0.018022</td>\n",
       "    </tr>\n",
       "  </tbody>\n",
       "</table>\n",
       "<p>5 rows × 102 columns</p>\n",
       "</div>"
      ],
      "text/plain": [
       "   TIMESTAMP_START  TIMESTAMP_END  TA_F_MDS  TA_ERA    TA_F  SW_IN_POT  \\\n",
       "0     201801010000   201801010030    24.196  24.712  24.196        0.0   \n",
       "1     201801010030   201801010100    24.195  24.285  24.195        0.0   \n",
       "2     201801010100   201801010130    23.180  23.858  23.180        0.0   \n",
       "3     201801010130   201801010200    22.739  23.712  22.739        0.0   \n",
       "4     201801010200   201801010230    22.537  23.567  22.537        0.0   \n",
       "\n",
       "   SW_IN_F_MDS  SW_IN_ERA  SW_IN_F  LW_IN_ERA  ...  GPP_DT_VUT_USTAR50  \\\n",
       "0        0.000        0.0    0.000    411.887  ...            0.000000   \n",
       "1        0.000        0.0    0.000    411.887  ...            0.000000   \n",
       "2        0.082        0.0    0.082    415.333  ...            0.016353   \n",
       "3        0.082        0.0    0.082    415.333  ...            0.016353   \n",
       "4        0.085        0.0    0.085    411.126  ...            0.016951   \n",
       "\n",
       "   GPP_DT_VUT_MEAN  GPP_DT_VUT_SE  GPP_DT_VUT_05  GPP_DT_VUT_16  \\\n",
       "0         0.000000       0.000000       0.000000       0.000000   \n",
       "1         0.000000       0.000000       0.000000       0.000000   \n",
       "2         0.014735       0.000376       0.008991       0.012675   \n",
       "3         0.014735       0.000376       0.008991       0.012675   \n",
       "4         0.015274       0.000389       0.009320       0.013139   \n",
       "\n",
       "   GPP_DT_VUT_25  GPP_DT_VUT_50 GPP_DT_VUT_75  GPP_DT_VUT_84  GPP_DT_VUT_95  \n",
       "0       0.000000       0.000000      0.000000       0.000000       0.000000  \n",
       "1       0.000000       0.000000      0.000000       0.000000       0.000000  \n",
       "2       0.013591       0.014326      0.016353       0.017003       0.017386  \n",
       "3       0.013591       0.014326      0.016353       0.017003       0.017386  \n",
       "4       0.014088       0.014850      0.016951       0.017625       0.018022  \n",
       "\n",
       "[5 rows x 102 columns]"
      ]
     },
     "metadata": {},
     "output_type": "display_data"
    }
   ],
   "source": [
    "display(df_pe_qfr.head())"
   ]
  },
  {
   "attachments": {},
   "cell_type": "markdown",
   "metadata": {},
   "source": [
    "* Existem variáveis que mostram o percentil dos valores (Ex: RECO_NT_VUT_25). Vamos retirar essas variáveis do dataset"
   ]
  },
  {
   "cell_type": "code",
   "execution_count": 10,
   "metadata": {},
   "outputs": [],
   "source": [
    "# Sufixos a serem removidos\n",
    "sufixos_a_remover = ['_05', '_16', '_25', '_50', '_75', '_84', '_95']\n",
    "\n",
    "# Filtra e remove as colunas com os sufixos especificados\n",
    "colunas_a_remover = [coluna for coluna in df_pe_qfr.columns if any(sufixo in coluna for sufixo in sufixos_a_remover)]\n",
    "df_pe_qfr = df_pe_qfr.drop(columns=colunas_a_remover)"
   ]
  },
  {
   "attachments": {},
   "cell_type": "markdown",
   "metadata": {},
   "source": [
    "* Existem variáveis que informam sobre a incerteza aleatório bem como o número de amostras e o método usado para calcular esta incerteza (Ex: H_RANDUNC, H_RANDUNC_N, H_RANDUNC_METHOD).\n",
    "\n",
    "* Inicialmente, não vamos trabalhar com estas variáveis"
   ]
  },
  {
   "cell_type": "code",
   "execution_count": 11,
   "metadata": {},
   "outputs": [],
   "source": [
    "# Filtra e remove as colunas com \"_RANDUNC\" em qualquer parte do nome\n",
    "colunas_a_remover = [coluna for coluna in df_pe_qfr.columns if '_RANDUNC' in coluna]\n",
    "df_pe_qfr = df_pe_qfr.drop(columns=colunas_a_remover)"
   ]
  },
  {
   "attachments": {},
   "cell_type": "markdown",
   "metadata": {},
   "source": [
    "* Varíaveis com _REF_JOINTUNC (Ex: NEE_VUT_REF_JOINTUNC) representa a incerteza conjunta combinada de vários limites USTAR e incerteza aleatória\n",
    "\n",
    "* Não vamos utilizá-las"
   ]
  },
  {
   "cell_type": "code",
   "execution_count": 12,
   "metadata": {},
   "outputs": [],
   "source": [
    "# Filtra as colunas que contêm \"_JOINTUNC\" no nome\n",
    "colunas_a_remover = [coluna for coluna in df_pe_qfr.columns if '_JOINTUNC' in coluna]\n",
    "\n",
    "# Remove as colunas que contêm \"_JOINTUNC\" no nome do DataFrame\n",
    "df_pe_qfr = df_pe_qfr.drop(columns=colunas_a_remover)"
   ]
  },
  {
   "attachments": {},
   "cell_type": "markdown",
   "metadata": {},
   "source": [
    "* Criar as colunas referentes ao NPP sendo que NPP = GPP - RECO\n",
    "* Dessa forma, teremos:\n",
    "    * (GPP_DT_VUT_REF) - (RECO_DT_VUT_REF) gera a coluna NPP_DT_VUT_REF\n",
    "\n",
    "    * (GPP_DT_VUT_USTAR50) - (RECO_DT_VUT_USTAR50) gera a coluna NPP_DT_VUT_USTAR50\n",
    "\n",
    "    * (GPP_DT_VUT_MEAN) - (RECO_DT_VUT_MEAN) gera a coluna NPP_DT_VUT_MEAN "
   ]
  },
  {
   "cell_type": "code",
   "execution_count": 13,
   "metadata": {},
   "outputs": [],
   "source": [
    "# Cria as novas colunas do NPP\n",
    "df_pe_qfr['NPP_DT_VUT_REF'] = df_pe_qfr['GPP_DT_VUT_REF'] - df_pe_qfr['RECO_DT_VUT_REF']\n",
    "df_pe_qfr['NPP_DT_VUT_USTAR50'] = df_pe_qfr['GPP_DT_VUT_USTAR50'] - df_pe_qfr['RECO_DT_VUT_USTAR50']\n",
    "df_pe_qfr['NPP_DT_VUT_MEAN'] = df_pe_qfr['GPP_DT_VUT_MEAN'] - df_pe_qfr['RECO_DT_VUT_MEAN']"
   ]
  },
  {
   "attachments": {},
   "cell_type": "markdown",
   "metadata": {},
   "source": [
    "* Precisamos transformar a variável TIMESTAMP_START de real para timestamp de fato."
   ]
  },
  {
   "cell_type": "code",
   "execution_count": 14,
   "metadata": {},
   "outputs": [],
   "source": [
    "# Converta a coluna TIMESTAMP_START para um formato de timestamp\n",
    "df_pe_qfr['TIMESTAMP_START'] = pd.to_datetime(df_pe_qfr['TIMESTAMP_START'], format='%Y%m%d%H%M')"
   ]
  },
  {
   "attachments": {},
   "cell_type": "markdown",
   "metadata": {},
   "source": [
    "* Vamos remover a variável TIMESTAMP_END"
   ]
  },
  {
   "cell_type": "code",
   "execution_count": 15,
   "metadata": {},
   "outputs": [],
   "source": [
    "df_pe_qfr = df_pe_qfr.drop('TIMESTAMP_END', axis=1)"
   ]
  },
  {
   "cell_type": "code",
   "execution_count": 16,
   "metadata": {},
   "outputs": [
    {
     "data": {
      "text/html": [
       "<div>\n",
       "<style scoped>\n",
       "    .dataframe tbody tr th:only-of-type {\n",
       "        vertical-align: middle;\n",
       "    }\n",
       "\n",
       "    .dataframe tbody tr th {\n",
       "        vertical-align: top;\n",
       "    }\n",
       "\n",
       "    .dataframe thead th {\n",
       "        text-align: right;\n",
       "    }\n",
       "</style>\n",
       "<table border=\"1\" class=\"dataframe\">\n",
       "  <thead>\n",
       "    <tr style=\"text-align: right;\">\n",
       "      <th></th>\n",
       "      <th>TIMESTAMP_START</th>\n",
       "      <th>TA_F_MDS</th>\n",
       "      <th>TA_ERA</th>\n",
       "      <th>TA_F</th>\n",
       "      <th>SW_IN_POT</th>\n",
       "      <th>SW_IN_F_MDS</th>\n",
       "      <th>SW_IN_ERA</th>\n",
       "      <th>SW_IN_F</th>\n",
       "      <th>LW_IN_ERA</th>\n",
       "      <th>LW_IN_F</th>\n",
       "      <th>...</th>\n",
       "      <th>RECO_DT_VUT_USTAR50</th>\n",
       "      <th>RECO_DT_VUT_MEAN</th>\n",
       "      <th>RECO_DT_VUT_SE</th>\n",
       "      <th>GPP_DT_VUT_REF</th>\n",
       "      <th>GPP_DT_VUT_USTAR50</th>\n",
       "      <th>GPP_DT_VUT_MEAN</th>\n",
       "      <th>GPP_DT_VUT_SE</th>\n",
       "      <th>NPP_DT_VUT_REF</th>\n",
       "      <th>NPP_DT_VUT_USTAR50</th>\n",
       "      <th>NPP_DT_VUT_MEAN</th>\n",
       "    </tr>\n",
       "  </thead>\n",
       "  <tbody>\n",
       "    <tr>\n",
       "      <th>0</th>\n",
       "      <td>2018-01-01 00:00:00</td>\n",
       "      <td>24.196</td>\n",
       "      <td>24.712</td>\n",
       "      <td>24.196</td>\n",
       "      <td>0.0</td>\n",
       "      <td>0.000</td>\n",
       "      <td>0.0</td>\n",
       "      <td>0.000</td>\n",
       "      <td>411.887</td>\n",
       "      <td>411.887</td>\n",
       "      <td>...</td>\n",
       "      <td>9.38142</td>\n",
       "      <td>8.22404</td>\n",
       "      <td>0.234516</td>\n",
       "      <td>0.000000</td>\n",
       "      <td>0.000000</td>\n",
       "      <td>0.000000</td>\n",
       "      <td>0.000000</td>\n",
       "      <td>-7.113990</td>\n",
       "      <td>-9.381420</td>\n",
       "      <td>-8.224040</td>\n",
       "    </tr>\n",
       "    <tr>\n",
       "      <th>1</th>\n",
       "      <td>2018-01-01 00:30:00</td>\n",
       "      <td>24.195</td>\n",
       "      <td>24.285</td>\n",
       "      <td>24.195</td>\n",
       "      <td>0.0</td>\n",
       "      <td>0.000</td>\n",
       "      <td>0.0</td>\n",
       "      <td>0.000</td>\n",
       "      <td>411.887</td>\n",
       "      <td>411.887</td>\n",
       "      <td>...</td>\n",
       "      <td>9.38107</td>\n",
       "      <td>8.22368</td>\n",
       "      <td>0.234486</td>\n",
       "      <td>0.000000</td>\n",
       "      <td>0.000000</td>\n",
       "      <td>0.000000</td>\n",
       "      <td>0.000000</td>\n",
       "      <td>-7.113920</td>\n",
       "      <td>-9.381070</td>\n",
       "      <td>-8.223680</td>\n",
       "    </tr>\n",
       "    <tr>\n",
       "      <th>2</th>\n",
       "      <td>2018-01-01 01:00:00</td>\n",
       "      <td>23.180</td>\n",
       "      <td>23.858</td>\n",
       "      <td>23.180</td>\n",
       "      <td>0.0</td>\n",
       "      <td>0.082</td>\n",
       "      <td>0.0</td>\n",
       "      <td>0.082</td>\n",
       "      <td>415.333</td>\n",
       "      <td>415.333</td>\n",
       "      <td>...</td>\n",
       "      <td>9.02601</td>\n",
       "      <td>7.87026</td>\n",
       "      <td>0.206227</td>\n",
       "      <td>0.016102</td>\n",
       "      <td>0.016353</td>\n",
       "      <td>0.014735</td>\n",
       "      <td>0.000376</td>\n",
       "      <td>-7.023898</td>\n",
       "      <td>-9.009657</td>\n",
       "      <td>-7.855525</td>\n",
       "    </tr>\n",
       "  </tbody>\n",
       "</table>\n",
       "<p>3 rows × 55 columns</p>\n",
       "</div>"
      ],
      "text/plain": [
       "      TIMESTAMP_START  TA_F_MDS  TA_ERA    TA_F  SW_IN_POT  SW_IN_F_MDS  \\\n",
       "0 2018-01-01 00:00:00    24.196  24.712  24.196        0.0        0.000   \n",
       "1 2018-01-01 00:30:00    24.195  24.285  24.195        0.0        0.000   \n",
       "2 2018-01-01 01:00:00    23.180  23.858  23.180        0.0        0.082   \n",
       "\n",
       "   SW_IN_ERA  SW_IN_F  LW_IN_ERA  LW_IN_F  ...  RECO_DT_VUT_USTAR50  \\\n",
       "0        0.0    0.000    411.887  411.887  ...              9.38142   \n",
       "1        0.0    0.000    411.887  411.887  ...              9.38107   \n",
       "2        0.0    0.082    415.333  415.333  ...              9.02601   \n",
       "\n",
       "   RECO_DT_VUT_MEAN  RECO_DT_VUT_SE  GPP_DT_VUT_REF  GPP_DT_VUT_USTAR50  \\\n",
       "0           8.22404        0.234516        0.000000            0.000000   \n",
       "1           8.22368        0.234486        0.000000            0.000000   \n",
       "2           7.87026        0.206227        0.016102            0.016353   \n",
       "\n",
       "   GPP_DT_VUT_MEAN GPP_DT_VUT_SE  NPP_DT_VUT_REF  NPP_DT_VUT_USTAR50  \\\n",
       "0         0.000000      0.000000       -7.113990           -9.381420   \n",
       "1         0.000000      0.000000       -7.113920           -9.381070   \n",
       "2         0.014735      0.000376       -7.023898           -9.009657   \n",
       "\n",
       "   NPP_DT_VUT_MEAN  \n",
       "0        -8.224040  \n",
       "1        -8.223680  \n",
       "2        -7.855525  \n",
       "\n",
       "[3 rows x 55 columns]"
      ]
     },
     "execution_count": 16,
     "metadata": {},
     "output_type": "execute_result"
    }
   ],
   "source": [
    "df_pe_qfr.head(3)"
   ]
  },
  {
   "attachments": {},
   "cell_type": "markdown",
   "metadata": {},
   "source": [
    "* Existem variáveis repetidas cuja diferença está apenas no modelo que foi utilizado para realizar o gap-filled. Por isso, vamos selecionar apenas variáveis sem repetição\n",
    "\n",
    "* Além disso, vamos usar o NPP médio (NPP_DT_VUT_MEAN)"
   ]
  },
  {
   "cell_type": "code",
   "execution_count": 60,
   "metadata": {},
   "outputs": [],
   "source": [
    "selected_variables = ['TIMESTAMP_START', 'TA_F_MDS', 'SW_IN_POT', 'SW_IN_F_MDS', 'LW_IN_F', 'LW_IN_JSB_F', 'VPD_ERA', 'VPD_F', 'PA_ERA', 'P_F', 'WS_F', 'WD', 'USTAR', 'RH', 'NETRAD', 'PPFD_IN', 'CO2_F_MDS', 'TS_F_MDS_1', 'LE_F_MDS', 'H_F_MDS','NPP_DT_VUT_MEAN']\n",
    "\n",
    "df_filtered = df_pe_qfr[selected_variables]\n"
   ]
  },
  {
   "attachments": {},
   "cell_type": "markdown",
   "metadata": {},
   "source": [
    "* Vamos criar outras variáveis a partir da variável TIMESTAMP. São elas:\n",
    "    * Ano\n",
    "    * Mês\n",
    "    * Dia do ano"
   ]
  },
  {
   "cell_type": "code",
   "execution_count": 61,
   "metadata": {},
   "outputs": [],
   "source": [
    "# Crie colunas para o ano, mês e dia do ano\n",
    "df_filtered['Year'] = df_pe_qfr['TIMESTAMP_START'].dt.year\n",
    "df_filtered['Month'] = df_pe_qfr['TIMESTAMP_START'].dt.month\n",
    "df_filtered['DoY'] = df_pe_qfr['TIMESTAMP_START'].dt.dayofyear"
   ]
  },
  {
   "cell_type": "code",
   "execution_count": 62,
   "metadata": {},
   "outputs": [
    {
     "data": {
      "text/html": [
       "<div>\n",
       "<style scoped>\n",
       "    .dataframe tbody tr th:only-of-type {\n",
       "        vertical-align: middle;\n",
       "    }\n",
       "\n",
       "    .dataframe tbody tr th {\n",
       "        vertical-align: top;\n",
       "    }\n",
       "\n",
       "    .dataframe thead th {\n",
       "        text-align: right;\n",
       "    }\n",
       "</style>\n",
       "<table border=\"1\" class=\"dataframe\">\n",
       "  <thead>\n",
       "    <tr style=\"text-align: right;\">\n",
       "      <th></th>\n",
       "      <th>TIMESTAMP_START</th>\n",
       "      <th>TA_F_MDS</th>\n",
       "      <th>SW_IN_POT</th>\n",
       "      <th>SW_IN_F_MDS</th>\n",
       "      <th>LW_IN_F</th>\n",
       "      <th>LW_IN_JSB_F</th>\n",
       "      <th>VPD_ERA</th>\n",
       "      <th>VPD_F</th>\n",
       "      <th>PA_ERA</th>\n",
       "      <th>P_F</th>\n",
       "      <th>...</th>\n",
       "      <th>NETRAD</th>\n",
       "      <th>PPFD_IN</th>\n",
       "      <th>CO2_F_MDS</th>\n",
       "      <th>TS_F_MDS_1</th>\n",
       "      <th>LE_F_MDS</th>\n",
       "      <th>H_F_MDS</th>\n",
       "      <th>NPP_DT_VUT_MEAN</th>\n",
       "      <th>Year</th>\n",
       "      <th>Month</th>\n",
       "      <th>DoY</th>\n",
       "    </tr>\n",
       "  </thead>\n",
       "  <tbody>\n",
       "    <tr>\n",
       "      <th>0</th>\n",
       "      <td>2018-01-01 00:00:00</td>\n",
       "      <td>24.20</td>\n",
       "      <td>0.00</td>\n",
       "      <td>0.00</td>\n",
       "      <td>411.89</td>\n",
       "      <td>479.34</td>\n",
       "      <td>1.10</td>\n",
       "      <td>1.14</td>\n",
       "      <td>98.83</td>\n",
       "      <td>0.05</td>\n",
       "      <td>...</td>\n",
       "      <td>&lt;NA&gt;</td>\n",
       "      <td>&lt;NA&gt;</td>\n",
       "      <td>443.98</td>\n",
       "      <td>24.47</td>\n",
       "      <td>7.22</td>\n",
       "      <td>-4.53</td>\n",
       "      <td>-8.22</td>\n",
       "      <td>2018</td>\n",
       "      <td>1</td>\n",
       "      <td>1</td>\n",
       "    </tr>\n",
       "    <tr>\n",
       "      <th>1</th>\n",
       "      <td>2018-01-01 00:30:00</td>\n",
       "      <td>24.20</td>\n",
       "      <td>0.00</td>\n",
       "      <td>0.00</td>\n",
       "      <td>411.89</td>\n",
       "      <td>479.35</td>\n",
       "      <td>0.89</td>\n",
       "      <td>1.13</td>\n",
       "      <td>98.79</td>\n",
       "      <td>0.05</td>\n",
       "      <td>...</td>\n",
       "      <td>&lt;NA&gt;</td>\n",
       "      <td>&lt;NA&gt;</td>\n",
       "      <td>443.98</td>\n",
       "      <td>24.41</td>\n",
       "      <td>7.22</td>\n",
       "      <td>-4.48</td>\n",
       "      <td>-8.22</td>\n",
       "      <td>2018</td>\n",
       "      <td>1</td>\n",
       "      <td>1</td>\n",
       "    </tr>\n",
       "    <tr>\n",
       "      <th>2</th>\n",
       "      <td>2018-01-01 01:00:00</td>\n",
       "      <td>23.18</td>\n",
       "      <td>0.00</td>\n",
       "      <td>0.08</td>\n",
       "      <td>415.33</td>\n",
       "      <td>471.46</td>\n",
       "      <td>0.67</td>\n",
       "      <td>0.02</td>\n",
       "      <td>98.76</td>\n",
       "      <td>0.10</td>\n",
       "      <td>...</td>\n",
       "      <td>-21.70</td>\n",
       "      <td>0.01</td>\n",
       "      <td>454.90</td>\n",
       "      <td>24.34</td>\n",
       "      <td>9.34</td>\n",
       "      <td>-2.81</td>\n",
       "      <td>-7.86</td>\n",
       "      <td>2018</td>\n",
       "      <td>1</td>\n",
       "      <td>1</td>\n",
       "    </tr>\n",
       "  </tbody>\n",
       "</table>\n",
       "<p>3 rows × 24 columns</p>\n",
       "</div>"
      ],
      "text/plain": [
       "      TIMESTAMP_START  TA_F_MDS  SW_IN_POT  SW_IN_F_MDS  LW_IN_F  LW_IN_JSB_F  \\\n",
       "0 2018-01-01 00:00:00     24.20       0.00         0.00   411.89       479.34   \n",
       "1 2018-01-01 00:30:00     24.20       0.00         0.00   411.89       479.35   \n",
       "2 2018-01-01 01:00:00     23.18       0.00         0.08   415.33       471.46   \n",
       "\n",
       "   VPD_ERA  VPD_F  PA_ERA  P_F  ...  NETRAD PPFD_IN CO2_F_MDS TS_F_MDS_1  \\\n",
       "0     1.10   1.14   98.83 0.05  ...    <NA>    <NA>    443.98      24.47   \n",
       "1     0.89   1.13   98.79 0.05  ...    <NA>    <NA>    443.98      24.41   \n",
       "2     0.67   0.02   98.76 0.10  ...  -21.70    0.01    454.90      24.34   \n",
       "\n",
       "  LE_F_MDS H_F_MDS  NPP_DT_VUT_MEAN  Year  Month  DoY  \n",
       "0     7.22   -4.53            -8.22  2018      1    1  \n",
       "1     7.22   -4.48            -8.22  2018      1    1  \n",
       "2     9.34   -2.81            -7.86  2018      1    1  \n",
       "\n",
       "[3 rows x 24 columns]"
      ]
     },
     "metadata": {},
     "output_type": "display_data"
    }
   ],
   "source": [
    "display(df_filtered.head(3))"
   ]
  },
  {
   "attachments": {},
   "cell_type": "markdown",
   "metadata": {},
   "source": [
    "* Análise padrão dos dados"
   ]
  },
  {
   "cell_type": "code",
   "execution_count": 20,
   "metadata": {},
   "outputs": [
    {
     "name": "stderr",
     "output_type": "stream",
     "text": [
      "/home/lpo_albert/miniconda3/envs/hansys/lib/python3.9/site-packages/multimethod/__init__.py:315: SettingWithCopyWarning: \n",
      "A value is trying to be set on a copy of a slice from a DataFrame\n",
      "\n",
      "See the caveats in the documentation: https://pandas.pydata.org/pandas-docs/stable/user_guide/indexing.html#returning-a-view-versus-a-copy\n",
      "  return func(*args, **kwargs)\n",
      "Summarize dataset: 100%|██████████| 31/31 [00:00<00:00, 46.07it/s, Completed]                        \n",
      "Generate report structure: 100%|██████████| 1/1 [00:10<00:00, 10.61s/it]\n",
      "Render HTML: 100%|██████████| 1/1 [00:00<00:00,  1.78it/s]\n",
      "Export report to file: 100%|██████████| 1/1 [00:00<00:00, 256.94it/s]\n"
     ]
    }
   ],
   "source": [
    "# Analisa os dados utlizando o pandas profiling\n",
    "report = ProfileReport(df_filtered,  minimal=True, title='Torre Amazônia Peruana')\n",
    "# Salva o arquivo html com as análises realizadas pelo pandas profiling\n",
    "report.to_file(\"EDA/torre_amazonia_peruana.html\")"
   ]
  },
  {
   "attachments": {},
   "cell_type": "markdown",
   "metadata": {},
   "source": [
    "* Análise temporal dos dados"
   ]
  },
  {
   "cell_type": "code",
   "execution_count": 21,
   "metadata": {},
   "outputs": [
    {
     "name": "stderr",
     "output_type": "stream",
     "text": [
      "Summarize dataset:  63%|██████▎   | 19/30 [01:42<00:44,  4.09s/it, Describe variable:TS_F_MDS_1]    /home/lpo_albert/miniconda3/envs/hansys/lib/python3.9/site-packages/pandas_profiling/model/pandas/describe_timeseries_pandas.py:95: RuntimeWarning: divide by zero encountered in log10\n",
      "  ampl = 10 * np.log10(data_psd[pos_freq_ix])\n",
      "Summarize dataset:  67%|██████▋   | 20/30 [01:57<01:13,  7.36s/it, Describe variable:H_F_MDS]   /home/lpo_albert/miniconda3/envs/hansys/lib/python3.9/site-packages/pandas_profiling/model/pandas/describe_timeseries_pandas.py:95: RuntimeWarning: divide by zero encountered in log10\n",
      "  ampl = 10 * np.log10(data_psd[pos_freq_ix])\n",
      "Summarize dataset:  70%|███████   | 21/30 [02:00<00:53,  5.96s/it, Describe variable:NIGHT]  /home/lpo_albert/miniconda3/envs/hansys/lib/python3.9/site-packages/pandas_profiling/model/pandas/describe_timeseries_pandas.py:95: RuntimeWarning: divide by zero encountered in log10\n",
      "  ampl = 10 * np.log10(data_psd[pos_freq_ix])\n",
      "Summarize dataset: 100%|██████████| 611/611 [03:50<00:00,  2.65it/s, Completed]                               \n",
      "Generate report structure: 100%|██████████| 1/1 [00:21<00:00, 21.27s/it]\n",
      "Render HTML: 100%|██████████| 1/1 [00:15<00:00, 15.03s/it]\n",
      "Export report to file: 100%|██████████| 1/1 [00:00<00:00, 16.54it/s]\n"
     ]
    }
   ],
   "source": [
    "from pandas_profiling import ProfileReport\n",
    "\n",
    "profile = ProfileReport(df_filtered, minimal=False, tsmode=True, sortby=\"TIMESTAMP_START\", title='Torre Amazônia Peruana')\n",
    "profile.to_file('EDA/time_series_torre_amazonia_peruana.html.html')"
   ]
  },
  {
   "cell_type": "code",
   "execution_count": null,
   "metadata": {},
   "outputs": [
    {
     "data": {
      "text/plain": []
     },
     "execution_count": 69,
     "metadata": {},
     "output_type": "execute_result"
    },
    {
     "name": "stderr",
     "output_type": "stream",
     "text": [
      "2023-09-05 13:52:25,336 - ERROR    - Exception occurred while processing request: 'NoneType' object is not iterable\n",
      "Traceback (most recent call last):\n",
      "  File \"/home/lpo_albert/miniconda3/envs/hansys/lib/python3.9/site-packages/dtale/views.py\", line 111, in _handle_exceptions\n",
      "    return func(*args, **kwargs)\n",
      "  File \"/home/lpo_albert/miniconda3/envs/hansys/lib/python3.9/site-packages/dtale/views.py\", line 2541, in get_data\n",
      "    curr_dtypes = [c[\"name\"] for c in global_state.get_dtypes(data_id)]\n",
      "TypeError: 'NoneType' object is not iterable\n",
      "2023-09-05 13:54:21,449 - WARNING  - findfont: Font family 'Heiti TC' not found.\n",
      "2023-09-05 13:54:21,457 - WARNING  - findfont: Font family 'Heiti TC' not found.\n",
      "2023-09-05 13:54:21,460 - WARNING  - findfont: Font family 'Heiti TC' not found.\n",
      "2023-09-05 13:54:21,465 - WARNING  - findfont: Font family 'Heiti TC' not found.\n",
      "2023-09-05 13:54:21,469 - WARNING  - findfont: Font family 'Heiti TC' not found.\n",
      "2023-09-05 13:54:21,472 - WARNING  - findfont: Font family 'Heiti TC' not found.\n",
      "2023-09-05 13:54:21,475 - WARNING  - findfont: Font family 'Heiti TC' not found.\n",
      "2023-09-05 13:54:21,482 - WARNING  - findfont: Font family 'Heiti TC' not found.\n",
      "2023-09-05 13:54:21,487 - WARNING  - findfont: Font family 'Heiti TC' not found.\n",
      "2023-09-05 13:54:21,490 - WARNING  - findfont: Font family 'Heiti TC' not found.\n",
      "2023-09-05 13:54:21,498 - WARNING  - findfont: Font family 'Heiti TC' not found.\n",
      "2023-09-05 13:54:21,502 - WARNING  - findfont: Font family 'Heiti TC' not found.\n",
      "2023-09-05 13:54:21,508 - WARNING  - findfont: Font family 'Heiti TC' not found.\n",
      "2023-09-05 13:54:21,512 - WARNING  - findfont: Font family 'Heiti TC' not found.\n",
      "2023-09-05 13:54:21,521 - WARNING  - findfont: Font family 'Heiti TC' not found.\n",
      "2023-09-05 13:54:21,526 - WARNING  - findfont: Font family 'Heiti TC' not found.\n",
      "2023-09-05 13:54:21,532 - WARNING  - findfont: Font family 'Heiti TC' not found.\n",
      "2023-09-05 13:54:21,541 - WARNING  - findfont: Font family 'Heiti TC' not found.\n",
      "2023-09-05 13:54:21,545 - WARNING  - findfont: Font family 'Heiti TC' not found.\n",
      "2023-09-05 13:54:21,596 - WARNING  - findfont: Font family 'Heiti TC' not found.\n",
      "2023-09-05 13:54:21,603 - WARNING  - findfont: Font family 'Heiti TC' not found.\n",
      "2023-09-05 13:54:21,610 - WARNING  - findfont: Font family 'Heiti TC' not found.\n",
      "2023-09-05 13:54:21,614 - WARNING  - findfont: Font family 'Heiti TC' not found.\n",
      "2023-09-05 13:54:21,625 - WARNING  - findfont: Font family 'Heiti TC' not found.\n",
      "2023-09-05 13:54:21,631 - WARNING  - findfont: Font family 'Heiti TC' not found.\n",
      "2023-09-05 13:54:21,641 - WARNING  - findfont: Font family 'Heiti TC' not found.\n",
      "2023-09-05 13:54:21,645 - WARNING  - findfont: Font family 'Heiti TC' not found.\n",
      "2023-09-05 13:54:21,648 - WARNING  - findfont: Font family 'Heiti TC' not found.\n",
      "2023-09-05 13:54:21,657 - WARNING  - findfont: Font family 'Heiti TC' not found.\n",
      "2023-09-05 13:54:21,666 - WARNING  - findfont: Font family 'Heiti TC' not found.\n",
      "2023-09-05 13:54:21,672 - WARNING  - findfont: Font family 'Heiti TC' not found.\n",
      "2023-09-05 13:54:21,686 - WARNING  - findfont: Font family 'Heiti TC' not found.\n",
      "2023-09-05 13:54:21,708 - WARNING  - findfont: Font family 'Heiti TC' not found.\n",
      "2023-09-05 13:54:21,715 - WARNING  - findfont: Font family 'Heiti TC' not found.\n",
      "2023-09-05 13:54:21,719 - WARNING  - findfont: Font family 'Heiti TC' not found.\n",
      "2023-09-05 13:54:21,726 - WARNING  - findfont: Font family 'Heiti TC' not found.\n",
      "2023-09-05 13:54:21,733 - WARNING  - findfont: Font family 'Heiti TC' not found.\n",
      "2023-09-05 13:54:21,743 - WARNING  - findfont: Font family 'Heiti TC' not found.\n"
     ]
    }
   ],
   "source": [
    "import dtale\n",
    "# Mostra a análise realizada pelo d-tale\n",
    "dtale.show(df_filtered, open_browser=True)"
   ]
  },
  {
   "attachments": {},
   "cell_type": "markdown",
   "metadata": {},
   "source": [
    "## Normalização"
   ]
  },
  {
   "attachments": {},
   "cell_type": "markdown",
   "metadata": {},
   "source": [
    "* Vamos retirar o TIMESTAMP_START para aplicarmos alguns modelos"
   ]
  },
  {
   "cell_type": "code",
   "execution_count": 64,
   "metadata": {},
   "outputs": [],
   "source": [
    "df_filtered = df_filtered.drop('TIMESTAMP_START', axis=1)"
   ]
  },
  {
   "attachments": {},
   "cell_type": "markdown",
   "metadata": {},
   "source": [
    "* Para utilizar os modelos é nessário que os valores nulos sejam tratados. Podemos retirar as amostras que tenham alguma coluna com valor nulo ou substituir os valores nulos por algum número. Nessa caso, vamos substituir os valores nulos por 0."
   ]
  },
  {
   "cell_type": "code",
   "execution_count": 65,
   "metadata": {},
   "outputs": [],
   "source": [
    "# Substitui os valores nulos por 0\n",
    "df_filtered.fillna(0, inplace=True)"
   ]
  },
  {
   "attachments": {},
   "cell_type": "markdown",
   "metadata": {},
   "source": [
    "* Os dados serão normalizados no intervalo de 0-1"
   ]
  },
  {
   "cell_type": "code",
   "execution_count": 66,
   "metadata": {},
   "outputs": [],
   "source": [
    "from sklearn.preprocessing import MinMaxScaler\n",
    "# Cria um objeto MinMaxScaler\n",
    "scaler = MinMaxScaler()\n",
    "# Ajusta e transforma os dados no intervalo [0, 1]\n",
    "df_filtered_normalized = scaler.fit_transform(df_filtered)\n",
    "# Converte para um dataframe\n",
    "df_filtered = pd.DataFrame(df_filtered_normalized, columns=df_filtered.columns)"
   ]
  },
  {
   "attachments": {},
   "cell_type": "markdown",
   "metadata": {},
   "source": [
    "* Vamos separar a variável alvo (NPP_DT_VUT_MEAN) do dataset"
   ]
  },
  {
   "cell_type": "code",
   "execution_count": 25,
   "metadata": {},
   "outputs": [],
   "source": [
    "# Obtém as variáveis independentes\n",
    "X = df_filtered.drop(['NPP_DT_VUT_MEAN'],axis=1)\n",
    "\n",
    "# Obtém a variável alvo\n",
    "y = df_filtered['NPP_DT_VUT_MEAN']"
   ]
  },
  {
   "attachments": {},
   "cell_type": "markdown",
   "metadata": {},
   "source": [
    "## Feature Importance"
   ]
  },
  {
   "cell_type": "code",
   "execution_count": 26,
   "metadata": {},
   "outputs": [],
   "source": [
    "# Obtém o nome das colunas\n",
    "column_names = X.columns"
   ]
  },
  {
   "attachments": {},
   "cell_type": "markdown",
   "metadata": {},
   "source": [
    "### Feature Importance Usando Regressão Linear"
   ]
  },
  {
   "cell_type": "code",
   "execution_count": 27,
   "metadata": {},
   "outputs": [
    {
     "data": {
      "image/png": "[encoded data removed]",
      "text/plain": [
       "<Figure size 864x432 with 1 Axes>"
      ]
     },
     "metadata": {
      "needs_background": "light"
     },
     "output_type": "display_data"
    }
   ],
   "source": [
    "import pandas as pd\n",
    "import numpy as np\n",
    "from sklearn.linear_model import LinearRegression\n",
    "import matplotlib.pyplot as plt\n",
    "\n",
    "# Define o modelo de regressão linear\n",
    "rl_model = LinearRegression()\n",
    "\n",
    "# Treina o modelo\n",
    "rl_model.fit(X, y)\n",
    "\n",
    "# Obtém o importance das variáveis\n",
    "importance = rl_model.coef_\n",
    "\n",
    "# Cria um DataFrame para armazenar o importance com os nomes das colunas\n",
    "importance_df = pd.DataFrame({'Feature': column_names, 'Importance': importance})\n",
    "\n",
    "# Ordena o DataFrame pelo importance em ordem decrescente\n",
    "importance_df = importance_df.sort_values(by='Importance', ascending=False)\n",
    "\n",
    "# Cria um gráfico de barras com os feature importance\n",
    "plt.figure(figsize=(12, 6))\n",
    "plt.bar(importance_df['Feature'], importance_df['Importance'])\n",
    "plt.xticks(rotation=90)\n",
    "plt.xlabel('Variável')\n",
    "plt.ylabel('Importance')\n",
    "plt.title('Feature Importance')\n",
    "plt.tight_layout()\n",
    "\n",
    "# Exibe o gráfico\n",
    "plt.show()\n"
   ]
  },
  {
   "attachments": {},
   "cell_type": "markdown",
   "metadata": {},
   "source": [
    "### Feature Importance Usando Árvore de Decisão"
   ]
  },
  {
   "cell_type": "code",
   "execution_count": 28,
   "metadata": {},
   "outputs": [
    {
     "data": {
      "image/png": "[encoded data removed]",
      "text/plain": [
       "<Figure size 864x432 with 1 Axes>"
      ]
     },
     "metadata": {
      "needs_background": "light"
     },
     "output_type": "display_data"
    }
   ],
   "source": [
    "import pandas as pd\n",
    "import numpy as np\n",
    "from sklearn.tree import DecisionTreeRegressor\n",
    "import matplotlib.pyplot as plt\n",
    "\n",
    "# Define o modelo de árvore de decisão\n",
    "tree_model = DecisionTreeRegressor()\n",
    "\n",
    "# Treina o modelo\n",
    "tree_model.fit(X, y)\n",
    "\n",
    "# Obtém a importância das variáveis\n",
    "importance = tree_model.feature_importances_\n",
    "\n",
    "# Cria um DataFrame para armazenar a importância com os nomes das colunas\n",
    "importance_df = pd.DataFrame({'Feature': column_names, 'Importance': importance})\n",
    "\n",
    "# Ordena o DataFrame pela importância em ordem decrescente\n",
    "importance_df = importance_df.sort_values(by='Importance', ascending=False)\n",
    "\n",
    "# Cria um gráfico de barras com o feature importance\n",
    "plt.figure(figsize=(12, 6))\n",
    "plt.bar(importance_df['Feature'], importance_df['Importance'])\n",
    "plt.xticks(rotation=90)\n",
    "plt.xlabel('Variável')\n",
    "plt.ylabel('Importance')\n",
    "plt.title('Feature Importance (Decision Tree)')\n",
    "plt.tight_layout()\n",
    "\n",
    "# Exibe o gráfico\n",
    "plt.show()\n"
   ]
  },
  {
   "attachments": {},
   "cell_type": "markdown",
   "metadata": {},
   "source": [
    "### Feature Importance Usando Random Forest"
   ]
  },
  {
   "cell_type": "code",
   "execution_count": 29,
   "metadata": {},
   "outputs": [
    {
     "data": {
      "image/png": "[encoded data removed]",
      "text/plain": [
       "<Figure size 864x432 with 1 Axes>"
      ]
     },
     "metadata": {
      "needs_background": "light"
     },
     "output_type": "display_data"
    }
   ],
   "source": [
    "import pandas as pd\n",
    "import numpy as np\n",
    "from sklearn.ensemble import RandomForestRegressor\n",
    "import matplotlib.pyplot as plt\n",
    "\n",
    "# Suponha que você já tenha o DataFrame X e a variável alvo y\n",
    "\n",
    "# Define o modelo Random Forest\n",
    "rf_model = RandomForestRegressor()\n",
    "\n",
    "# Treina o modelo\n",
    "rf_model.fit(X, y)\n",
    "\n",
    "# Obtém a importância das variáveis\n",
    "importance = rf_model.feature_importances_\n",
    "\n",
    "# Cria um DataFrame para armazenar a importância com os nomes das colunas\n",
    "importance_df = pd.DataFrame({'Feature': column_names, 'Importance': importance})\n",
    "\n",
    "# Ordena o DataFrame pela importância em ordem decrescente\n",
    "importance_df = importance_df.sort_values(by='Importance', ascending=False)\n",
    "\n",
    "# Cria um gráfico de barras com o feature importance\n",
    "plt.figure(figsize=(12, 6))\n",
    "plt.bar(importance_df['Feature'], importance_df['Importance'])\n",
    "plt.xticks(rotation=90)\n",
    "plt.xlabel('Variável')\n",
    "plt.ylabel('Importance')\n",
    "plt.title('Feature Importance (Random Forest)')\n",
    "plt.tight_layout()\n",
    "\n",
    "# Exibe o gráfico\n",
    "plt.show()"
   ]
  },
  {
   "attachments": {},
   "cell_type": "markdown",
   "metadata": {},
   "source": [
    "### Feature Importance Usando XGBoost"
   ]
  },
  {
   "cell_type": "code",
   "execution_count": 30,
   "metadata": {},
   "outputs": [
    {
     "data": {
      "image/png": "[encoded data removed]",
      "text/plain": [
       "<Figure size 864x432 with 1 Axes>"
      ]
     },
     "metadata": {
      "needs_background": "light"
     },
     "output_type": "display_data"
    }
   ],
   "source": [
    "import pandas as pd\n",
    "import numpy as np\n",
    "import xgboost as xgb\n",
    "import matplotlib.pyplot as plt\n",
    "\n",
    "# Suponha que você já tenha o DataFrame X e a variável alvo y\n",
    "\n",
    "# Define o modelo XGBoost\n",
    "xgb_model = xgb.XGBRegressor()\n",
    "\n",
    "# Treina o modelo\n",
    "xgb_model.fit(X, y)\n",
    "\n",
    "# Obtém a importância das variáveis\n",
    "importance = xgb_model.feature_importances_\n",
    "\n",
    "# Cria um DataFrame para armazenar a importância com os nomes das colunas\n",
    "importance_df = pd.DataFrame({'Feature': column_names, 'Importance': importance})\n",
    "\n",
    "# Ordena o DataFrame pela importância em ordem decrescente\n",
    "importance_df = importance_df.sort_values(by='Importance', ascending=False)\n",
    "\n",
    "# Cria um gráfico de barras com o feature importance\n",
    "plt.figure(figsize=(12, 6))\n",
    "plt.bar(importance_df['Feature'], importance_df['Importance'])\n",
    "plt.xticks(rotation=90)\n",
    "plt.xlabel('Variável')\n",
    "plt.ylabel('Importance')\n",
    "plt.title('Feature Importance (XGBoost)')\n",
    "plt.tight_layout()\n",
    "\n",
    "# Exibe o gráfico\n",
    "plt.show()"
   ]
  },
  {
   "attachments": {},
   "cell_type": "markdown",
   "metadata": {},
   "source": [
    "### Feature Importance Usando GBM"
   ]
  },
  {
   "cell_type": "code",
   "execution_count": 32,
   "metadata": {},
   "outputs": [
    {
     "data": {
      "image/png": "[encoded data removed]",
      "text/plain": [
       "<Figure size 864x432 with 1 Axes>"
      ]
     },
     "metadata": {
      "needs_background": "light"
     },
     "output_type": "display_data"
    }
   ],
   "source": [
    "import pandas as pd\n",
    "from sklearn.ensemble import GradientBoostingRegressor\n",
    "import matplotlib.pyplot as plt\n",
    "\n",
    "# Suponha que você já tenha o DataFrame X e a variável alvo y\n",
    "\n",
    "# Define o modelo Gradient Boosting\n",
    "gb_model = GradientBoostingRegressor()\n",
    "\n",
    "# Treina o modelo\n",
    "gb_model.fit(X, y)\n",
    "\n",
    "# Obtém a importância das variáveis\n",
    "importance = gb_model.feature_importances_\n",
    "\n",
    "# Obtém o nome das colunas\n",
    "column_names = X.columns\n",
    "\n",
    "# Cria um DataFrame para armazenar a importância com os nomes das colunas\n",
    "importance_df = pd.DataFrame({'Feature': column_names, 'Importance': importance})\n",
    "\n",
    "# Ordena o DataFrame pela importância em ordem decrescente\n",
    "importance_df = importance_df.sort_values(by='Importance', ascending=False)\n",
    "\n",
    "# Cria um gráfico de barras com o feature importance\n",
    "plt.figure(figsize=(12, 6))\n",
    "plt.bar(importance_df['Feature'], importance_df['Importance'])\n",
    "plt.xticks(rotation=90)\n",
    "plt.xlabel('Variável')\n",
    "plt.ylabel('Importance')\n",
    "plt.title('Feature Importance (Gradient Boosting)')\n",
    "plt.tight_layout()\n",
    "\n",
    "# Exibe o gráfico\n",
    "plt.show()\n"
   ]
  },
  {
   "attachments": {},
   "cell_type": "markdown",
   "metadata": {},
   "source": [
    "### Modelos de Previsão"
   ]
  },
  {
   "attachments": {},
   "cell_type": "markdown",
   "metadata": {},
   "source": [
    "* Dividir os dados em treino e teste"
   ]
  },
  {
   "cell_type": "code",
   "execution_count": 38,
   "metadata": {},
   "outputs": [],
   "source": [
    "from sklearn.model_selection import train_test_split\n",
    "\n",
    "X_train, X_test, y_train, y_test = train_test_split(X.values, y.values, test_size=0.2, random_state=42)"
   ]
  },
  {
   "attachments": {},
   "cell_type": "markdown",
   "metadata": {},
   "source": [
    "* Vamos executar uma série de modelos para termos uma noção de qual apresenta o melhor desempenho"
   ]
  },
  {
   "cell_type": "code",
   "execution_count": 42,
   "metadata": {},
   "outputs": [
    {
     "name": "stderr",
     "output_type": "stream",
     "text": [
      " 98%|█████████▊| 41/42 [20:07<00:05,  5.73s/it] "
     ]
    },
    {
     "name": "stdout",
     "output_type": "stream",
     "text": [
      "[LightGBM] [Warning] Auto-choosing row-wise multi-threading, the overhead of testing was 0.002667 seconds.\n",
      "You can set `force_row_wise=true` to remove the overhead.\n",
      "And if memory is not enough, you can set `force_col_wise=true`.\n",
      "[LightGBM] [Info] Total Bins 5112\n",
      "[LightGBM] [Info] Number of data points in the train set: 28032, number of used features: 23\n",
      "[LightGBM] [Info] Start training from score 0.267619\n"
     ]
    },
    {
     "name": "stderr",
     "output_type": "stream",
     "text": [
      "100%|██████████| 42/42 [20:08<00:00, 28.77s/it]\n"
     ]
    }
   ],
   "source": [
    "from lazypredict.Supervised import LazyClassifier, LazyRegressor\n",
    "\n",
    "# Criar um LazyClassifier e treiná-lo com os dados de treino\n",
    "clf = LazyRegressor()\n",
    "models, predictions = clf.fit(X_train, X_test, y_train, y_test)"
   ]
  },
  {
   "cell_type": "code",
   "execution_count": 43,
   "metadata": {},
   "outputs": [
    {
     "name": "stdout",
     "output_type": "stream",
     "text": [
      "                               Adjusted R-Squared  R-Squared  RMSE  Time Taken\n",
      "Model                                                                         \n",
      "XGBRegressor                                 0.98       0.98  0.03        3.53\n",
      "ExtraTreesRegressor                          0.98       0.98  0.03       13.19\n",
      "LGBMRegressor                                0.98       0.98  0.03        0.82\n",
      "HistGradientBoostingRegressor                0.98       0.98  0.03        0.96\n",
      "RandomForestRegressor                        0.98       0.98  0.03       42.85\n",
      "BaggingRegressor                             0.97       0.97  0.03        4.33\n",
      "NuSVR                                        0.97       0.97  0.03      803.19\n",
      "GradientBoostingRegressor                    0.95       0.95  0.04       14.12\n",
      "DecisionTreeRegressor                        0.95       0.95  0.04        0.76\n",
      "KNeighborsRegressor                          0.95       0.95  0.04        3.76\n",
      "MLPRegressor                                 0.95       0.95  0.04        2.66\n",
      "ExtraTreeRegressor                           0.94       0.94  0.05        0.19\n",
      "SVR                                          0.93       0.93  0.05        5.56\n",
      "AdaBoostRegressor                            0.92       0.92  0.05        5.64\n",
      "TransformedTargetRegressor                   0.90       0.90  0.06        0.06\n",
      "LinearRegression                             0.90       0.90  0.06        0.08\n",
      "LassoLarsIC                                  0.90       0.90  0.06        0.12\n",
      "Ridge                                        0.90       0.90  0.06        0.15\n",
      "BayesianRidge                                0.90       0.90  0.06        0.13\n",
      "RidgeCV                                      0.90       0.90  0.06        0.43\n",
      "LassoLarsCV                                  0.90       0.90  0.06        0.38\n",
      "LassoCV                                      0.90       0.90  0.06        0.54\n",
      "ElasticNetCV                                 0.90       0.90  0.06        0.49\n",
      "LarsCV                                       0.90       0.90  0.06        0.63\n",
      "Lars                                         0.90       0.90  0.06        0.55\n",
      "SGDRegressor                                 0.90       0.90  0.06        0.13\n",
      "HuberRegressor                               0.90       0.90  0.06        1.09\n",
      "LinearSVR                                    0.89       0.89  0.06        7.36\n",
      "OrthogonalMatchingPursuitCV                  0.89       0.89  0.06        0.48\n",
      "PassiveAggressiveRegressor                   0.88       0.88  0.07        0.20\n",
      "OrthogonalMatchingPursuit                    0.87       0.87  0.07        0.09\n",
      "TweedieRegressor                             0.86       0.86  0.07        0.07\n",
      "GammaRegressor                               0.81       0.81  0.08        0.13\n",
      "PoissonRegressor                             0.74       0.74  0.10        0.20\n",
      "RANSACRegressor                              0.30       0.30  0.16        0.57\n",
      "ElasticNet                                  -0.00      -0.00  0.19        0.07\n",
      "DummyRegressor                              -0.00      -0.00  0.19        0.05\n",
      "LassoLars                                   -0.00      -0.00  0.19        0.07\n",
      "Lasso                                       -0.00      -0.00  0.19        0.10\n",
      "KernelRidge                                 -1.10      -1.10  0.27      228.55\n"
     ]
    }
   ],
   "source": [
    "print(models)"
   ]
  },
  {
   "attachments": {},
   "cell_type": "markdown",
   "metadata": {},
   "source": [
    "### SHAP (SHapley Additive exPlanations) \n",
    "* is a game theoretic approach to explain the output of any machine learning model.\n",
    "* Analisar o grau de importância das variáveis XGBoostRegressor"
   ]
  },
  {
   "cell_type": "code",
   "execution_count": 44,
   "metadata": {},
   "outputs": [],
   "source": [
    "import shap"
   ]
  },
  {
   "cell_type": "code",
   "execution_count": 51,
   "metadata": {},
   "outputs": [],
   "source": [
    "# Cria um DataFrame a partir do vetor X_train e dos nomes das colunas\n",
    "# Usamos X_train_df para podermos visualizar o nome das features no gráfico do SHAP\n",
    "X_train_df = pd.DataFrame(data=X_train, columns=column_names)\n",
    "\n",
    "X_test_df = pd.DataFrame(data=X_train, columns=column_names)\n"
   ]
  },
  {
   "cell_type": "code",
   "execution_count": 52,
   "metadata": {},
   "outputs": [
    {
     "data": {
      "image/png": "[encoded data removed]",
      "text/plain": [
       "<Figure size 576x770.4 with 2 Axes>"
      ]
     },
     "metadata": {
      "needs_background": "light"
     },
     "output_type": "display_data"
    }
   ],
   "source": [
    "explainer = shap.Explainer(xgb_model)\n",
    "shap_values = explainer(X_train_df)\n",
    "\n",
    "shap.plots.beeswarm(shap_values, max_display=None)"
   ]
  },
  {
   "cell_type": "code",
   "execution_count": 58,
   "metadata": {},
   "outputs": [
    {
     "data": {
      "image/png": "[encoded data removed]",
      "text/plain": [
       "<Figure size 576x936 with 3 Axes>"
      ]
     },
     "metadata": {},
     "output_type": "display_data"
    }
   ],
   "source": [
    "shap.plots.waterfall(shap_values[132], max_display=len(shap_values[0].values))"
   ]
  }
 ],
 "metadata": {
  "kernelspec": {
   "display_name": "hansys",
   "language": "python",
   "name": "python3"
  },
  "language_info": {
   "codemirror_mode": {
    "name": "ipython",
    "version": 3
   },
   "file_extension": ".py",
   "mimetype": "text/x-python",
   "name": "python",
   "nbconvert_exporter": "python",
   "pygments_lexer": "ipython3",
   "version": "3.9.7"
  },
  "orig_nbformat": 4
 },
 "nbformat": 4,
 "nbformat_minor": 2
}
